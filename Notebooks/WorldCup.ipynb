{
 "cells": [
  {
   "cell_type": "markdown",
   "metadata": {},
   "source": [
    "# WORLD CUP QATAR-2022 FORECASTING USING MACHINE LEARNING"
   ]
  },
  {
   "cell_type": "markdown",
   "metadata": {},
   "source": [
    "## 1. Import libraries"
   ]
  },
  {
   "cell_type": "code",
   "execution_count": 1,
   "metadata": {},
   "outputs": [],
   "source": [
    "import pandas as pd\n",
    "import numpy as np\n",
    "import matplotlib.pyplot as plt\n",
    "import os\n",
    "import glob\n",
    "import pycountry_convert as pc\n",
    "import seaborn as sns\n",
    "from sklearn.model_selection import train_test_split\n",
    "from sklearn.preprocessing import StandardScaler\n",
    "from sklearn.ensemble import RandomForestClassifier\n",
    "from xgboost import XGBClassifier\n",
    "from sklearn.metrics import mean_squared_error, classification_report, accuracy_score\n",
    "from sklearn.multioutput import MultiOutputClassifier"
   ]
  },
  {
   "cell_type": "markdown",
   "metadata": {},
   "source": [
    "## 2. Exploring some datesets to determine which would be better for the model"
   ]
  },
  {
   "cell_type": "code",
   "execution_count": 2,
   "metadata": {},
   "outputs": [],
   "source": [
    "wcup = pd.read_csv(r'C:\\Users\\USUARIO\\Documents\\GitHub\\Assorted-Projects\\Datasets\\WorldCUP\\WorldCupMatches.csv')"
   ]
  },
  {
   "cell_type": "code",
   "execution_count": 3,
   "metadata": {},
   "outputs": [
    {
     "data": {
      "text/html": [
       "<div>\n",
       "<style scoped>\n",
       "    .dataframe tbody tr th:only-of-type {\n",
       "        vertical-align: middle;\n",
       "    }\n",
       "\n",
       "    .dataframe tbody tr th {\n",
       "        vertical-align: top;\n",
       "    }\n",
       "\n",
       "    .dataframe thead th {\n",
       "        text-align: right;\n",
       "    }\n",
       "</style>\n",
       "<table border=\"1\" class=\"dataframe\">\n",
       "  <thead>\n",
       "    <tr style=\"text-align: right;\">\n",
       "      <th></th>\n",
       "      <th>Year</th>\n",
       "      <th>Datetime</th>\n",
       "      <th>Stage</th>\n",
       "      <th>Stadium</th>\n",
       "      <th>City</th>\n",
       "      <th>Home Team Name</th>\n",
       "      <th>Home Team Goals</th>\n",
       "      <th>Away Team Goals</th>\n",
       "      <th>Away Team Name</th>\n",
       "      <th>Win conditions</th>\n",
       "      <th>Attendance</th>\n",
       "      <th>Half-time Home Goals</th>\n",
       "      <th>Half-time Away Goals</th>\n",
       "      <th>Referee</th>\n",
       "      <th>Assistant 1</th>\n",
       "      <th>Assistant 2</th>\n",
       "      <th>RoundID</th>\n",
       "      <th>MatchID</th>\n",
       "      <th>Home Team Initials</th>\n",
       "      <th>Away Team Initials</th>\n",
       "    </tr>\n",
       "  </thead>\n",
       "  <tbody>\n",
       "    <tr>\n",
       "      <th>0</th>\n",
       "      <td>1930.0</td>\n",
       "      <td>13 Jul 1930 - 15:00</td>\n",
       "      <td>Group 1</td>\n",
       "      <td>Pocitos</td>\n",
       "      <td>Montevideo</td>\n",
       "      <td>France</td>\n",
       "      <td>4.0</td>\n",
       "      <td>1.0</td>\n",
       "      <td>Mexico</td>\n",
       "      <td></td>\n",
       "      <td>4444.0</td>\n",
       "      <td>3.0</td>\n",
       "      <td>0.0</td>\n",
       "      <td>LOMBARDI Domingo (URU)</td>\n",
       "      <td>CRISTOPHE Henry (BEL)</td>\n",
       "      <td>REGO Gilberto (BRA)</td>\n",
       "      <td>201.0</td>\n",
       "      <td>1096.0</td>\n",
       "      <td>FRA</td>\n",
       "      <td>MEX</td>\n",
       "    </tr>\n",
       "    <tr>\n",
       "      <th>1</th>\n",
       "      <td>1930.0</td>\n",
       "      <td>13 Jul 1930 - 15:00</td>\n",
       "      <td>Group 4</td>\n",
       "      <td>Parque Central</td>\n",
       "      <td>Montevideo</td>\n",
       "      <td>USA</td>\n",
       "      <td>3.0</td>\n",
       "      <td>0.0</td>\n",
       "      <td>Belgium</td>\n",
       "      <td></td>\n",
       "      <td>18346.0</td>\n",
       "      <td>2.0</td>\n",
       "      <td>0.0</td>\n",
       "      <td>MACIAS Jose (ARG)</td>\n",
       "      <td>MATEUCCI Francisco (URU)</td>\n",
       "      <td>WARNKEN Alberto (CHI)</td>\n",
       "      <td>201.0</td>\n",
       "      <td>1090.0</td>\n",
       "      <td>USA</td>\n",
       "      <td>BEL</td>\n",
       "    </tr>\n",
       "    <tr>\n",
       "      <th>2</th>\n",
       "      <td>1930.0</td>\n",
       "      <td>14 Jul 1930 - 12:45</td>\n",
       "      <td>Group 2</td>\n",
       "      <td>Parque Central</td>\n",
       "      <td>Montevideo</td>\n",
       "      <td>Yugoslavia</td>\n",
       "      <td>2.0</td>\n",
       "      <td>1.0</td>\n",
       "      <td>Brazil</td>\n",
       "      <td></td>\n",
       "      <td>24059.0</td>\n",
       "      <td>2.0</td>\n",
       "      <td>0.0</td>\n",
       "      <td>TEJADA Anibal (URU)</td>\n",
       "      <td>VALLARINO Ricardo (URU)</td>\n",
       "      <td>BALWAY Thomas (FRA)</td>\n",
       "      <td>201.0</td>\n",
       "      <td>1093.0</td>\n",
       "      <td>YUG</td>\n",
       "      <td>BRA</td>\n",
       "    </tr>\n",
       "    <tr>\n",
       "      <th>3</th>\n",
       "      <td>1930.0</td>\n",
       "      <td>14 Jul 1930 - 14:50</td>\n",
       "      <td>Group 3</td>\n",
       "      <td>Pocitos</td>\n",
       "      <td>Montevideo</td>\n",
       "      <td>Romania</td>\n",
       "      <td>3.0</td>\n",
       "      <td>1.0</td>\n",
       "      <td>Peru</td>\n",
       "      <td></td>\n",
       "      <td>2549.0</td>\n",
       "      <td>1.0</td>\n",
       "      <td>0.0</td>\n",
       "      <td>WARNKEN Alberto (CHI)</td>\n",
       "      <td>LANGENUS Jean (BEL)</td>\n",
       "      <td>MATEUCCI Francisco (URU)</td>\n",
       "      <td>201.0</td>\n",
       "      <td>1098.0</td>\n",
       "      <td>ROU</td>\n",
       "      <td>PER</td>\n",
       "    </tr>\n",
       "    <tr>\n",
       "      <th>4</th>\n",
       "      <td>1930.0</td>\n",
       "      <td>15 Jul 1930 - 16:00</td>\n",
       "      <td>Group 1</td>\n",
       "      <td>Parque Central</td>\n",
       "      <td>Montevideo</td>\n",
       "      <td>Argentina</td>\n",
       "      <td>1.0</td>\n",
       "      <td>0.0</td>\n",
       "      <td>France</td>\n",
       "      <td></td>\n",
       "      <td>23409.0</td>\n",
       "      <td>0.0</td>\n",
       "      <td>0.0</td>\n",
       "      <td>REGO Gilberto (BRA)</td>\n",
       "      <td>SAUCEDO Ulises (BOL)</td>\n",
       "      <td>RADULESCU Constantin (ROU)</td>\n",
       "      <td>201.0</td>\n",
       "      <td>1085.0</td>\n",
       "      <td>ARG</td>\n",
       "      <td>FRA</td>\n",
       "    </tr>\n",
       "  </tbody>\n",
       "</table>\n",
       "</div>"
      ],
      "text/plain": [
       "     Year              Datetime    Stage         Stadium         City  \\\n",
       "0  1930.0  13 Jul 1930 - 15:00   Group 1         Pocitos  Montevideo    \n",
       "1  1930.0  13 Jul 1930 - 15:00   Group 4  Parque Central  Montevideo    \n",
       "2  1930.0  14 Jul 1930 - 12:45   Group 2  Parque Central  Montevideo    \n",
       "3  1930.0  14 Jul 1930 - 14:50   Group 3         Pocitos  Montevideo    \n",
       "4  1930.0  15 Jul 1930 - 16:00   Group 1  Parque Central  Montevideo    \n",
       "\n",
       "  Home Team Name  Home Team Goals  Away Team Goals Away Team Name  \\\n",
       "0         France              4.0              1.0         Mexico   \n",
       "1            USA              3.0              0.0        Belgium   \n",
       "2     Yugoslavia              2.0              1.0         Brazil   \n",
       "3        Romania              3.0              1.0           Peru   \n",
       "4      Argentina              1.0              0.0         France   \n",
       "\n",
       "  Win conditions  Attendance  Half-time Home Goals  Half-time Away Goals  \\\n",
       "0                     4444.0                   3.0                   0.0   \n",
       "1                    18346.0                   2.0                   0.0   \n",
       "2                    24059.0                   2.0                   0.0   \n",
       "3                     2549.0                   1.0                   0.0   \n",
       "4                    23409.0                   0.0                   0.0   \n",
       "\n",
       "                  Referee               Assistant 1  \\\n",
       "0  LOMBARDI Domingo (URU)     CRISTOPHE Henry (BEL)   \n",
       "1       MACIAS Jose (ARG)  MATEUCCI Francisco (URU)   \n",
       "2     TEJADA Anibal (URU)   VALLARINO Ricardo (URU)   \n",
       "3   WARNKEN Alberto (CHI)       LANGENUS Jean (BEL)   \n",
       "4     REGO Gilberto (BRA)      SAUCEDO Ulises (BOL)   \n",
       "\n",
       "                  Assistant 2  RoundID  MatchID Home Team Initials  \\\n",
       "0         REGO Gilberto (BRA)    201.0   1096.0                FRA   \n",
       "1       WARNKEN Alberto (CHI)    201.0   1090.0                USA   \n",
       "2         BALWAY Thomas (FRA)    201.0   1093.0                YUG   \n",
       "3    MATEUCCI Francisco (URU)    201.0   1098.0                ROU   \n",
       "4  RADULESCU Constantin (ROU)    201.0   1085.0                ARG   \n",
       "\n",
       "  Away Team Initials  \n",
       "0                MEX  \n",
       "1                BEL  \n",
       "2                BRA  \n",
       "3                PER  \n",
       "4                FRA  "
      ]
     },
     "execution_count": 3,
     "metadata": {},
     "output_type": "execute_result"
    }
   ],
   "source": [
    "wcup.head()"
   ]
  },
  {
   "cell_type": "code",
   "execution_count": 4,
   "metadata": {},
   "outputs": [
    {
     "data": {
      "text/html": [
       "<div>\n",
       "<style scoped>\n",
       "    .dataframe tbody tr th:only-of-type {\n",
       "        vertical-align: middle;\n",
       "    }\n",
       "\n",
       "    .dataframe tbody tr th {\n",
       "        vertical-align: top;\n",
       "    }\n",
       "\n",
       "    .dataframe thead th {\n",
       "        text-align: right;\n",
       "    }\n",
       "</style>\n",
       "<table border=\"1\" class=\"dataframe\">\n",
       "  <thead>\n",
       "    <tr style=\"text-align: right;\">\n",
       "      <th></th>\n",
       "      <th>Year</th>\n",
       "      <th>Datetime</th>\n",
       "      <th>Stage</th>\n",
       "      <th>Stadium</th>\n",
       "      <th>City</th>\n",
       "      <th>Home Team Name</th>\n",
       "      <th>Home Team Goals</th>\n",
       "      <th>Away Team Goals</th>\n",
       "      <th>Away Team Name</th>\n",
       "      <th>Win conditions</th>\n",
       "      <th>Attendance</th>\n",
       "      <th>Half-time Home Goals</th>\n",
       "      <th>Half-time Away Goals</th>\n",
       "      <th>Referee</th>\n",
       "      <th>Assistant 1</th>\n",
       "      <th>Assistant 2</th>\n",
       "      <th>RoundID</th>\n",
       "      <th>MatchID</th>\n",
       "      <th>Home Team Initials</th>\n",
       "      <th>Away Team Initials</th>\n",
       "    </tr>\n",
       "  </thead>\n",
       "  <tbody>\n",
       "    <tr>\n",
       "      <th>0</th>\n",
       "      <td>1930.0</td>\n",
       "      <td>13 Jul 1930 - 15:00</td>\n",
       "      <td>Group 1</td>\n",
       "      <td>Pocitos</td>\n",
       "      <td>Montevideo</td>\n",
       "      <td>France</td>\n",
       "      <td>4.0</td>\n",
       "      <td>1.0</td>\n",
       "      <td>Mexico</td>\n",
       "      <td></td>\n",
       "      <td>4444.0</td>\n",
       "      <td>3.0</td>\n",
       "      <td>0.0</td>\n",
       "      <td>LOMBARDI Domingo (URU)</td>\n",
       "      <td>CRISTOPHE Henry (BEL)</td>\n",
       "      <td>REGO Gilberto (BRA)</td>\n",
       "      <td>201.0</td>\n",
       "      <td>1096.0</td>\n",
       "      <td>FRA</td>\n",
       "      <td>MEX</td>\n",
       "    </tr>\n",
       "    <tr>\n",
       "      <th>1</th>\n",
       "      <td>1930.0</td>\n",
       "      <td>13 Jul 1930 - 15:00</td>\n",
       "      <td>Group 4</td>\n",
       "      <td>Parque Central</td>\n",
       "      <td>Montevideo</td>\n",
       "      <td>USA</td>\n",
       "      <td>3.0</td>\n",
       "      <td>0.0</td>\n",
       "      <td>Belgium</td>\n",
       "      <td></td>\n",
       "      <td>18346.0</td>\n",
       "      <td>2.0</td>\n",
       "      <td>0.0</td>\n",
       "      <td>MACIAS Jose (ARG)</td>\n",
       "      <td>MATEUCCI Francisco (URU)</td>\n",
       "      <td>WARNKEN Alberto (CHI)</td>\n",
       "      <td>201.0</td>\n",
       "      <td>1090.0</td>\n",
       "      <td>USA</td>\n",
       "      <td>BEL</td>\n",
       "    </tr>\n",
       "    <tr>\n",
       "      <th>2</th>\n",
       "      <td>1930.0</td>\n",
       "      <td>14 Jul 1930 - 12:45</td>\n",
       "      <td>Group 2</td>\n",
       "      <td>Parque Central</td>\n",
       "      <td>Montevideo</td>\n",
       "      <td>Yugoslavia</td>\n",
       "      <td>2.0</td>\n",
       "      <td>1.0</td>\n",
       "      <td>Brazil</td>\n",
       "      <td></td>\n",
       "      <td>24059.0</td>\n",
       "      <td>2.0</td>\n",
       "      <td>0.0</td>\n",
       "      <td>TEJADA Anibal (URU)</td>\n",
       "      <td>VALLARINO Ricardo (URU)</td>\n",
       "      <td>BALWAY Thomas (FRA)</td>\n",
       "      <td>201.0</td>\n",
       "      <td>1093.0</td>\n",
       "      <td>YUG</td>\n",
       "      <td>BRA</td>\n",
       "    </tr>\n",
       "  </tbody>\n",
       "</table>\n",
       "</div>"
      ],
      "text/plain": [
       "     Year              Datetime    Stage         Stadium         City  \\\n",
       "0  1930.0  13 Jul 1930 - 15:00   Group 1         Pocitos  Montevideo    \n",
       "1  1930.0  13 Jul 1930 - 15:00   Group 4  Parque Central  Montevideo    \n",
       "2  1930.0  14 Jul 1930 - 12:45   Group 2  Parque Central  Montevideo    \n",
       "\n",
       "  Home Team Name  Home Team Goals  Away Team Goals Away Team Name  \\\n",
       "0         France              4.0              1.0         Mexico   \n",
       "1            USA              3.0              0.0        Belgium   \n",
       "2     Yugoslavia              2.0              1.0         Brazil   \n",
       "\n",
       "  Win conditions  Attendance  Half-time Home Goals  Half-time Away Goals  \\\n",
       "0                     4444.0                   3.0                   0.0   \n",
       "1                    18346.0                   2.0                   0.0   \n",
       "2                    24059.0                   2.0                   0.0   \n",
       "\n",
       "                  Referee               Assistant 1            Assistant 2  \\\n",
       "0  LOMBARDI Domingo (URU)     CRISTOPHE Henry (BEL)    REGO Gilberto (BRA)   \n",
       "1       MACIAS Jose (ARG)  MATEUCCI Francisco (URU)  WARNKEN Alberto (CHI)   \n",
       "2     TEJADA Anibal (URU)   VALLARINO Ricardo (URU)    BALWAY Thomas (FRA)   \n",
       "\n",
       "   RoundID  MatchID Home Team Initials Away Team Initials  \n",
       "0    201.0   1096.0                FRA                MEX  \n",
       "1    201.0   1090.0                USA                BEL  \n",
       "2    201.0   1093.0                YUG                BRA  "
      ]
     },
     "execution_count": 4,
     "metadata": {},
     "output_type": "execute_result"
    }
   ],
   "source": [
    "wcup.head(3)"
   ]
  },
  {
   "cell_type": "code",
   "execution_count": 5,
   "metadata": {},
   "outputs": [],
   "source": [
    "oppo_list = glob.glob(r'C:\\Users\\USUARIO\\Documents\\GitHub\\Assorted-Projects\\Datasets\\WorldCUP\\archive\\International_Football_History_Countries\\*\\Opponents_History.csv')"
   ]
  },
  {
   "cell_type": "code",
   "execution_count": 6,
   "metadata": {},
   "outputs": [],
   "source": [
    "opponent_history = pd.DataFrame()\n",
    "\n",
    "for i,path in enumerate(oppo_list):\n",
    "    team = pd.read_csv(path)\n",
    "    team['Main'] = oppo_list[i].split('\\\\')[10]\n",
    "    opponent_history = pd.concat([opponent_history, team], axis=0)"
   ]
  },
  {
   "cell_type": "code",
   "execution_count": 7,
   "metadata": {},
   "outputs": [],
   "source": [
    "opp_history = opponent_history[opponent_history.Squad != 'Squad']"
   ]
  },
  {
   "cell_type": "code",
   "execution_count": 8,
   "metadata": {},
   "outputs": [
    {
     "data": {
      "text/html": [
       "<div>\n",
       "<style scoped>\n",
       "    .dataframe tbody tr th:only-of-type {\n",
       "        vertical-align: middle;\n",
       "    }\n",
       "\n",
       "    .dataframe tbody tr th {\n",
       "        vertical-align: top;\n",
       "    }\n",
       "\n",
       "    .dataframe thead th {\n",
       "        text-align: right;\n",
       "    }\n",
       "</style>\n",
       "<table border=\"1\" class=\"dataframe\">\n",
       "  <thead>\n",
       "    <tr style=\"text-align: right;\">\n",
       "      <th></th>\n",
       "      <th>Squad</th>\n",
       "      <th>MP</th>\n",
       "      <th>W</th>\n",
       "      <th>D</th>\n",
       "      <th>L</th>\n",
       "      <th>GF</th>\n",
       "      <th>GA</th>\n",
       "      <th>GD</th>\n",
       "      <th>PPM</th>\n",
       "      <th>Head-to-Head</th>\n",
       "      <th>Main</th>\n",
       "    </tr>\n",
       "  </thead>\n",
       "  <tbody>\n",
       "    <tr>\n",
       "      <th>0</th>\n",
       "      <td>cl Chile</td>\n",
       "      <td>19</td>\n",
       "      <td>11</td>\n",
       "      <td>7</td>\n",
       "      <td>1</td>\n",
       "      <td>30</td>\n",
       "      <td>13</td>\n",
       "      <td>+17</td>\n",
       "      <td>2.05</td>\n",
       "      <td>Head-to-Head</td>\n",
       "      <td>Argentina</td>\n",
       "    </tr>\n",
       "    <tr>\n",
       "      <th>1</th>\n",
       "      <td>uy Uruguay</td>\n",
       "      <td>17</td>\n",
       "      <td>11</td>\n",
       "      <td>3</td>\n",
       "      <td>3</td>\n",
       "      <td>27</td>\n",
       "      <td>15</td>\n",
       "      <td>+12</td>\n",
       "      <td>2.06</td>\n",
       "      <td>Head-to-Head</td>\n",
       "      <td>Argentina</td>\n",
       "    </tr>\n",
       "    <tr>\n",
       "      <th>2</th>\n",
       "      <td>br Brazil</td>\n",
       "      <td>17</td>\n",
       "      <td>5</td>\n",
       "      <td>4</td>\n",
       "      <td>8</td>\n",
       "      <td>15</td>\n",
       "      <td>26</td>\n",
       "      <td>-11</td>\n",
       "      <td>1.06</td>\n",
       "      <td>Head-to-Head</td>\n",
       "      <td>Argentina</td>\n",
       "    </tr>\n",
       "    <tr>\n",
       "      <th>3</th>\n",
       "      <td>bo Bolivia</td>\n",
       "      <td>16</td>\n",
       "      <td>11</td>\n",
       "      <td>3</td>\n",
       "      <td>2</td>\n",
       "      <td>41</td>\n",
       "      <td>16</td>\n",
       "      <td>+25</td>\n",
       "      <td>2.25</td>\n",
       "      <td>Head-to-Head</td>\n",
       "      <td>Argentina</td>\n",
       "    </tr>\n",
       "    <tr>\n",
       "      <th>4</th>\n",
       "      <td>co Colombia</td>\n",
       "      <td>16</td>\n",
       "      <td>8</td>\n",
       "      <td>6</td>\n",
       "      <td>2</td>\n",
       "      <td>20</td>\n",
       "      <td>10</td>\n",
       "      <td>+10</td>\n",
       "      <td>1.88</td>\n",
       "      <td>Head-to-Head</td>\n",
       "      <td>Argentina</td>\n",
       "    </tr>\n",
       "  </tbody>\n",
       "</table>\n",
       "</div>"
      ],
      "text/plain": [
       "         Squad  MP   W  D  L  GF  GA   GD   PPM  Head-to-Head       Main\n",
       "0     cl Chile  19  11  7  1  30  13  +17  2.05  Head-to-Head  Argentina\n",
       "1   uy Uruguay  17  11  3  3  27  15  +12  2.06  Head-to-Head  Argentina\n",
       "2    br Brazil  17   5  4  8  15  26  -11  1.06  Head-to-Head  Argentina\n",
       "3   bo Bolivia  16  11  3  2  41  16  +25  2.25  Head-to-Head  Argentina\n",
       "4  co Colombia  16   8  6  2  20  10  +10  1.88  Head-to-Head  Argentina"
      ]
     },
     "execution_count": 8,
     "metadata": {},
     "output_type": "execute_result"
    }
   ],
   "source": [
    "opp_history.head()"
   ]
  },
  {
   "cell_type": "code",
   "execution_count": 9,
   "metadata": {},
   "outputs": [
    {
     "data": {
      "text/html": [
       "<div>\n",
       "<style scoped>\n",
       "    .dataframe tbody tr th:only-of-type {\n",
       "        vertical-align: middle;\n",
       "    }\n",
       "\n",
       "    .dataframe tbody tr th {\n",
       "        vertical-align: top;\n",
       "    }\n",
       "\n",
       "    .dataframe thead th {\n",
       "        text-align: right;\n",
       "    }\n",
       "</style>\n",
       "<table border=\"1\" class=\"dataframe\">\n",
       "  <thead>\n",
       "    <tr style=\"text-align: right;\">\n",
       "      <th></th>\n",
       "      <th>Season</th>\n",
       "      <th>Squad</th>\n",
       "      <th>Comp</th>\n",
       "      <th>LgRank</th>\n",
       "      <th>MP</th>\n",
       "      <th>W</th>\n",
       "      <th>D</th>\n",
       "      <th>L</th>\n",
       "      <th>GF</th>\n",
       "      <th>GA</th>\n",
       "      <th>GD</th>\n",
       "      <th>Pts</th>\n",
       "      <th>Top Team Scorer</th>\n",
       "      <th>Goalkeeper</th>\n",
       "      <th>Notes</th>\n",
       "    </tr>\n",
       "  </thead>\n",
       "  <tbody>\n",
       "    <tr>\n",
       "      <th>0</th>\n",
       "      <td>2022</td>\n",
       "      <td>Ecuador</td>\n",
       "      <td>1. FIFA World Cup</td>\n",
       "      <td>GR</td>\n",
       "      <td>0</td>\n",
       "      <td>0</td>\n",
       "      <td>0</td>\n",
       "      <td>0</td>\n",
       "      <td>0</td>\n",
       "      <td>0</td>\n",
       "      <td>0</td>\n",
       "      <td>0</td>\n",
       "      <td>NaN</td>\n",
       "      <td>NaN</td>\n",
       "      <td>NaN</td>\n",
       "    </tr>\n",
       "    <tr>\n",
       "      <th>1</th>\n",
       "      <td>2014</td>\n",
       "      <td>Ecuador</td>\n",
       "      <td>1. FIFA World Cup</td>\n",
       "      <td>GR</td>\n",
       "      <td>3</td>\n",
       "      <td>1</td>\n",
       "      <td>1</td>\n",
       "      <td>1</td>\n",
       "      <td>3</td>\n",
       "      <td>3</td>\n",
       "      <td>0</td>\n",
       "      <td>4</td>\n",
       "      <td>Enner Valencia - 3</td>\n",
       "      <td>Alexander Domínguez</td>\n",
       "      <td>NaN</td>\n",
       "    </tr>\n",
       "    <tr>\n",
       "      <th>2</th>\n",
       "      <td>2006</td>\n",
       "      <td>Ecuador</td>\n",
       "      <td>1. FIFA World Cup</td>\n",
       "      <td>R16</td>\n",
       "      <td>4</td>\n",
       "      <td>2</td>\n",
       "      <td>0</td>\n",
       "      <td>2</td>\n",
       "      <td>5</td>\n",
       "      <td>4</td>\n",
       "      <td>1</td>\n",
       "      <td>6</td>\n",
       "      <td>Agustín Delgado, Carlos Tenorio - 2</td>\n",
       "      <td>Cristian Mora</td>\n",
       "      <td>NaN</td>\n",
       "    </tr>\n",
       "    <tr>\n",
       "      <th>3</th>\n",
       "      <td>2002</td>\n",
       "      <td>Ecuador</td>\n",
       "      <td>1. FIFA World Cup</td>\n",
       "      <td>GR</td>\n",
       "      <td>3</td>\n",
       "      <td>1</td>\n",
       "      <td>0</td>\n",
       "      <td>2</td>\n",
       "      <td>2</td>\n",
       "      <td>4</td>\n",
       "      <td>-2</td>\n",
       "      <td>3</td>\n",
       "      <td>Agustín Delgado, Édison Méndez - 1</td>\n",
       "      <td>José Francisco Cevallos</td>\n",
       "      <td>NaN</td>\n",
       "    </tr>\n",
       "  </tbody>\n",
       "</table>\n",
       "</div>"
      ],
      "text/plain": [
       "   Season    Squad               Comp LgRank  MP  W  D  L  GF  GA  GD  Pts  \\\n",
       "0    2022  Ecuador  1. FIFA World Cup     GR   0  0  0  0   0   0   0    0   \n",
       "1    2014  Ecuador  1. FIFA World Cup     GR   3  1  1  1   3   3   0    4   \n",
       "2    2006  Ecuador  1. FIFA World Cup    R16   4  2  0  2   5   4   1    6   \n",
       "3    2002  Ecuador  1. FIFA World Cup     GR   3  1  0  2   2   4  -2    3   \n",
       "\n",
       "                       Top Team Scorer               Goalkeeper  Notes  \n",
       "0                                  NaN                      NaN    NaN  \n",
       "1                   Enner Valencia - 3      Alexander Domínguez    NaN  \n",
       "2  Agustín Delgado, Carlos Tenorio - 2            Cristian Mora    NaN  \n",
       "3   Agustín Delgado, Édison Méndez - 1  José Francisco Cevallos    NaN  "
      ]
     },
     "execution_count": 9,
     "metadata": {},
     "output_type": "execute_result"
    }
   ],
   "source": [
    "ecu_wc = pd.read_csv(r'C:\\Users\\USUARIO\\Documents\\GitHub\\Assorted-Projects\\Datasets\\WorldCUP\\archive\\International_Football_History_Countries\\Ecuador\\Worldcups_History.csv')\n",
    "ecu_wc.head()"
   ]
  },
  {
   "cell_type": "markdown",
   "metadata": {},
   "source": [
    "### Dataset results could be better to predict matches head-head given the amount of data available"
   ]
  },
  {
   "cell_type": "code",
   "execution_count": 10,
   "metadata": {},
   "outputs": [
    {
     "data": {
      "text/html": [
       "<div>\n",
       "<style scoped>\n",
       "    .dataframe tbody tr th:only-of-type {\n",
       "        vertical-align: middle;\n",
       "    }\n",
       "\n",
       "    .dataframe tbody tr th {\n",
       "        vertical-align: top;\n",
       "    }\n",
       "\n",
       "    .dataframe thead th {\n",
       "        text-align: right;\n",
       "    }\n",
       "</style>\n",
       "<table border=\"1\" class=\"dataframe\">\n",
       "  <thead>\n",
       "    <tr style=\"text-align: right;\">\n",
       "      <th></th>\n",
       "      <th>date</th>\n",
       "      <th>home_team</th>\n",
       "      <th>away_team</th>\n",
       "      <th>home_score</th>\n",
       "      <th>away_score</th>\n",
       "      <th>tournament</th>\n",
       "      <th>city</th>\n",
       "      <th>country</th>\n",
       "      <th>neutral</th>\n",
       "    </tr>\n",
       "  </thead>\n",
       "  <tbody>\n",
       "    <tr>\n",
       "      <th>0</th>\n",
       "      <td>1872-11-30</td>\n",
       "      <td>Scotland</td>\n",
       "      <td>England</td>\n",
       "      <td>0.0</td>\n",
       "      <td>0.0</td>\n",
       "      <td>Friendly</td>\n",
       "      <td>Glasgow</td>\n",
       "      <td>Scotland</td>\n",
       "      <td>False</td>\n",
       "    </tr>\n",
       "    <tr>\n",
       "      <th>1</th>\n",
       "      <td>1873-03-08</td>\n",
       "      <td>England</td>\n",
       "      <td>Scotland</td>\n",
       "      <td>4.0</td>\n",
       "      <td>2.0</td>\n",
       "      <td>Friendly</td>\n",
       "      <td>London</td>\n",
       "      <td>England</td>\n",
       "      <td>False</td>\n",
       "    </tr>\n",
       "    <tr>\n",
       "      <th>2</th>\n",
       "      <td>1874-03-07</td>\n",
       "      <td>Scotland</td>\n",
       "      <td>England</td>\n",
       "      <td>2.0</td>\n",
       "      <td>1.0</td>\n",
       "      <td>Friendly</td>\n",
       "      <td>Glasgow</td>\n",
       "      <td>Scotland</td>\n",
       "      <td>False</td>\n",
       "    </tr>\n",
       "    <tr>\n",
       "      <th>3</th>\n",
       "      <td>1875-03-06</td>\n",
       "      <td>England</td>\n",
       "      <td>Scotland</td>\n",
       "      <td>2.0</td>\n",
       "      <td>2.0</td>\n",
       "      <td>Friendly</td>\n",
       "      <td>London</td>\n",
       "      <td>England</td>\n",
       "      <td>False</td>\n",
       "    </tr>\n",
       "    <tr>\n",
       "      <th>4</th>\n",
       "      <td>1876-03-04</td>\n",
       "      <td>Scotland</td>\n",
       "      <td>England</td>\n",
       "      <td>3.0</td>\n",
       "      <td>0.0</td>\n",
       "      <td>Friendly</td>\n",
       "      <td>Glasgow</td>\n",
       "      <td>Scotland</td>\n",
       "      <td>False</td>\n",
       "    </tr>\n",
       "  </tbody>\n",
       "</table>\n",
       "</div>"
      ],
      "text/plain": [
       "         date home_team away_team  home_score  away_score tournament     city  \\\n",
       "0  1872-11-30  Scotland   England         0.0         0.0   Friendly  Glasgow   \n",
       "1  1873-03-08   England  Scotland         4.0         2.0   Friendly   London   \n",
       "2  1874-03-07  Scotland   England         2.0         1.0   Friendly  Glasgow   \n",
       "3  1875-03-06   England  Scotland         2.0         2.0   Friendly   London   \n",
       "4  1876-03-04  Scotland   England         3.0         0.0   Friendly  Glasgow   \n",
       "\n",
       "    country  neutral  \n",
       "0  Scotland    False  \n",
       "1   England    False  \n",
       "2  Scotland    False  \n",
       "3   England    False  \n",
       "4  Scotland    False  "
      ]
     },
     "execution_count": 10,
     "metadata": {},
     "output_type": "execute_result"
    }
   ],
   "source": [
    "all_results = pd.read_csv(r'C:\\Users\\USUARIO\\Documents\\GitHub\\Assorted-Projects\\Datasets\\WorldCUP\\results.csv')\n",
    "all_results.head()"
   ]
  },
  {
   "cell_type": "code",
   "execution_count": 11,
   "metadata": {},
   "outputs": [],
   "source": [
    "all_results.dropna(inplace=True)"
   ]
  },
  {
   "cell_type": "code",
   "execution_count": 12,
   "metadata": {},
   "outputs": [],
   "source": [
    "all_results['date'] = pd.to_datetime(all_results.date, infer_datetime_format=True)"
   ]
  },
  {
   "cell_type": "markdown",
   "metadata": {},
   "source": [
    "### One external feature which could help forecasting is the Ranking FIFA"
   ]
  },
  {
   "cell_type": "code",
   "execution_count": 13,
   "metadata": {},
   "outputs": [],
   "source": [
    "ranking_fifa = pd.read_csv(r'C:\\Users\\USUARIO\\Documents\\GitHub\\Assorted-Projects\\Datasets\\WorldCUP\\fifa_ranking-2022-10-06.csv')"
   ]
  },
  {
   "cell_type": "code",
   "execution_count": 14,
   "metadata": {},
   "outputs": [],
   "source": [
    "ranking_fifa['rank_date'] = pd.to_datetime(ranking_fifa.rank_date, infer_datetime_format=True)"
   ]
  },
  {
   "cell_type": "code",
   "execution_count": 15,
   "metadata": {},
   "outputs": [
    {
     "name": "stdout",
     "output_type": "stream",
     "text": [
      "<class 'pandas.core.frame.DataFrame'>\n",
      "RangeIndex: 63916 entries, 0 to 63915\n",
      "Data columns (total 8 columns):\n",
      " #   Column           Non-Null Count  Dtype         \n",
      "---  ------           --------------  -----         \n",
      " 0   rank             63916 non-null  int64         \n",
      " 1   country_full     63916 non-null  object        \n",
      " 2   country_abrv     63916 non-null  object        \n",
      " 3   total_points     63916 non-null  float64       \n",
      " 4   previous_points  63916 non-null  float64       \n",
      " 5   rank_change      63916 non-null  int64         \n",
      " 6   confederation    63916 non-null  object        \n",
      " 7   rank_date        63916 non-null  datetime64[ns]\n",
      "dtypes: datetime64[ns](1), float64(2), int64(2), object(3)\n",
      "memory usage: 3.9+ MB\n"
     ]
    }
   ],
   "source": [
    "ranking_fifa.info()"
   ]
  },
  {
   "cell_type": "code",
   "execution_count": 16,
   "metadata": {},
   "outputs": [],
   "source": [
    "ranking_fifa['Year'] = pd.DatetimeIndex(ranking_fifa.rank_date).year"
   ]
  },
  {
   "cell_type": "markdown",
   "metadata": {},
   "source": [
    "#### -  Since the competition does not match when FIFA Ranking is published, the average year will be taken into account"
   ]
  },
  {
   "cell_type": "code",
   "execution_count": 17,
   "metadata": {},
   "outputs": [],
   "source": [
    "rank_avg_year = ranking_fifa.groupby(['Year', 'country_full']).mean()"
   ]
  },
  {
   "cell_type": "code",
   "execution_count": 18,
   "metadata": {},
   "outputs": [],
   "source": [
    "rank_avg_year.reset_index(inplace=True)"
   ]
  },
  {
   "cell_type": "code",
   "execution_count": 19,
   "metadata": {},
   "outputs": [
    {
     "data": {
      "text/html": [
       "<div>\n",
       "<style scoped>\n",
       "    .dataframe tbody tr th:only-of-type {\n",
       "        vertical-align: middle;\n",
       "    }\n",
       "\n",
       "    .dataframe tbody tr th {\n",
       "        vertical-align: top;\n",
       "    }\n",
       "\n",
       "    .dataframe thead th {\n",
       "        text-align: right;\n",
       "    }\n",
       "</style>\n",
       "<table border=\"1\" class=\"dataframe\">\n",
       "  <thead>\n",
       "    <tr style=\"text-align: right;\">\n",
       "      <th></th>\n",
       "      <th>Year</th>\n",
       "      <th>country_full</th>\n",
       "      <th>rank</th>\n",
       "      <th>total_points</th>\n",
       "      <th>previous_points</th>\n",
       "      <th>rank_change</th>\n",
       "    </tr>\n",
       "  </thead>\n",
       "  <tbody>\n",
       "    <tr>\n",
       "      <th>37</th>\n",
       "      <td>1992</td>\n",
       "      <td>Ecuador</td>\n",
       "      <td>65.0</td>\n",
       "      <td>23.0</td>\n",
       "      <td>0.0</td>\n",
       "      <td>0.0</td>\n",
       "    </tr>\n",
       "    <tr>\n",
       "      <th>186</th>\n",
       "      <td>1993</td>\n",
       "      <td>Ecuador</td>\n",
       "      <td>42.4</td>\n",
       "      <td>37.0</td>\n",
       "      <td>34.6</td>\n",
       "      <td>-3.4</td>\n",
       "    </tr>\n",
       "    <tr>\n",
       "      <th>343</th>\n",
       "      <td>1994</td>\n",
       "      <td>Ecuador</td>\n",
       "      <td>49.3</td>\n",
       "      <td>33.5</td>\n",
       "      <td>33.8</td>\n",
       "      <td>0.7</td>\n",
       "    </tr>\n",
       "    <tr>\n",
       "      <th>514</th>\n",
       "      <td>1995</td>\n",
       "      <td>Ecuador</td>\n",
       "      <td>60.5</td>\n",
       "      <td>32.6</td>\n",
       "      <td>32.1</td>\n",
       "      <td>0.0</td>\n",
       "    </tr>\n",
       "    <tr>\n",
       "      <th>692</th>\n",
       "      <td>1996</td>\n",
       "      <td>Ecuador</td>\n",
       "      <td>38.4</td>\n",
       "      <td>43.8</td>\n",
       "      <td>42.8</td>\n",
       "      <td>-2.2</td>\n",
       "    </tr>\n",
       "  </tbody>\n",
       "</table>\n",
       "</div>"
      ],
      "text/plain": [
       "     Year country_full  rank  total_points  previous_points  rank_change\n",
       "37   1992      Ecuador  65.0          23.0              0.0          0.0\n",
       "186  1993      Ecuador  42.4          37.0             34.6         -3.4\n",
       "343  1994      Ecuador  49.3          33.5             33.8          0.7\n",
       "514  1995      Ecuador  60.5          32.6             32.1          0.0\n",
       "692  1996      Ecuador  38.4          43.8             42.8         -2.2"
      ]
     },
     "execution_count": 19,
     "metadata": {},
     "output_type": "execute_result"
    }
   ],
   "source": [
    "rank_avg_year[rank_avg_year.country_full == 'Ecuador'].head()"
   ]
  },
  {
   "cell_type": "code",
   "execution_count": 20,
   "metadata": {},
   "outputs": [],
   "source": [
    "all_results.date = pd.to_datetime(all_results.date, infer_datetime_format=True)"
   ]
  },
  {
   "cell_type": "code",
   "execution_count": 21,
   "metadata": {},
   "outputs": [],
   "source": [
    "all_results['Year'] = pd.DatetimeIndex(all_results.date).year"
   ]
  },
  {
   "cell_type": "code",
   "execution_count": 22,
   "metadata": {},
   "outputs": [
    {
     "data": {
      "text/html": [
       "<div>\n",
       "<style scoped>\n",
       "    .dataframe tbody tr th:only-of-type {\n",
       "        vertical-align: middle;\n",
       "    }\n",
       "\n",
       "    .dataframe tbody tr th {\n",
       "        vertical-align: top;\n",
       "    }\n",
       "\n",
       "    .dataframe thead th {\n",
       "        text-align: right;\n",
       "    }\n",
       "</style>\n",
       "<table border=\"1\" class=\"dataframe\">\n",
       "  <thead>\n",
       "    <tr style=\"text-align: right;\">\n",
       "      <th></th>\n",
       "      <th>date</th>\n",
       "      <th>home_team</th>\n",
       "      <th>away_team</th>\n",
       "      <th>home_score</th>\n",
       "      <th>away_score</th>\n",
       "      <th>tournament</th>\n",
       "      <th>city</th>\n",
       "      <th>country</th>\n",
       "      <th>neutral</th>\n",
       "      <th>Year</th>\n",
       "    </tr>\n",
       "  </thead>\n",
       "  <tbody>\n",
       "    <tr>\n",
       "      <th>2141</th>\n",
       "      <td>1938-08-11</td>\n",
       "      <td>Ecuador</td>\n",
       "      <td>Peru</td>\n",
       "      <td>1.0</td>\n",
       "      <td>9.0</td>\n",
       "      <td>Bolivarian Games</td>\n",
       "      <td>Bogotá</td>\n",
       "      <td>Colombia</td>\n",
       "      <td>True</td>\n",
       "      <td>1938</td>\n",
       "    </tr>\n",
       "    <tr>\n",
       "      <th>2148</th>\n",
       "      <td>1938-08-19</td>\n",
       "      <td>Ecuador</td>\n",
       "      <td>Venezuela</td>\n",
       "      <td>5.0</td>\n",
       "      <td>2.0</td>\n",
       "      <td>Bolivarian Games</td>\n",
       "      <td>Bogotá</td>\n",
       "      <td>Colombia</td>\n",
       "      <td>True</td>\n",
       "      <td>1938</td>\n",
       "    </tr>\n",
       "    <tr>\n",
       "      <th>2193</th>\n",
       "      <td>1939-01-22</td>\n",
       "      <td>Ecuador</td>\n",
       "      <td>Uruguay</td>\n",
       "      <td>0.0</td>\n",
       "      <td>6.0</td>\n",
       "      <td>Copa América</td>\n",
       "      <td>Lima</td>\n",
       "      <td>Peru</td>\n",
       "      <td>True</td>\n",
       "      <td>1939</td>\n",
       "    </tr>\n",
       "    <tr>\n",
       "      <th>2201</th>\n",
       "      <td>1939-02-12</td>\n",
       "      <td>Ecuador</td>\n",
       "      <td>Paraguay</td>\n",
       "      <td>1.0</td>\n",
       "      <td>3.0</td>\n",
       "      <td>Copa América</td>\n",
       "      <td>Lima</td>\n",
       "      <td>Peru</td>\n",
       "      <td>True</td>\n",
       "      <td>1939</td>\n",
       "    </tr>\n",
       "    <tr>\n",
       "      <th>2340</th>\n",
       "      <td>1941-02-09</td>\n",
       "      <td>Ecuador</td>\n",
       "      <td>Uruguay</td>\n",
       "      <td>0.0</td>\n",
       "      <td>6.0</td>\n",
       "      <td>Copa América</td>\n",
       "      <td>Santiago</td>\n",
       "      <td>Chile</td>\n",
       "      <td>True</td>\n",
       "      <td>1941</td>\n",
       "    </tr>\n",
       "    <tr>\n",
       "      <th>...</th>\n",
       "      <td>...</td>\n",
       "      <td>...</td>\n",
       "      <td>...</td>\n",
       "      <td>...</td>\n",
       "      <td>...</td>\n",
       "      <td>...</td>\n",
       "      <td>...</td>\n",
       "      <td>...</td>\n",
       "      <td>...</td>\n",
       "      <td>...</td>\n",
       "    </tr>\n",
       "    <tr>\n",
       "      <th>43391</th>\n",
       "      <td>2022-01-27</td>\n",
       "      <td>Ecuador</td>\n",
       "      <td>Brazil</td>\n",
       "      <td>1.0</td>\n",
       "      <td>1.0</td>\n",
       "      <td>FIFA World Cup qualification</td>\n",
       "      <td>Quito</td>\n",
       "      <td>Ecuador</td>\n",
       "      <td>False</td>\n",
       "      <td>2022</td>\n",
       "    </tr>\n",
       "    <tr>\n",
       "      <th>43556</th>\n",
       "      <td>2022-03-29</td>\n",
       "      <td>Ecuador</td>\n",
       "      <td>Argentina</td>\n",
       "      <td>1.0</td>\n",
       "      <td>1.0</td>\n",
       "      <td>FIFA World Cup qualification</td>\n",
       "      <td>Guayaquil</td>\n",
       "      <td>Ecuador</td>\n",
       "      <td>False</td>\n",
       "      <td>2022</td>\n",
       "    </tr>\n",
       "    <tr>\n",
       "      <th>43660</th>\n",
       "      <td>2022-06-02</td>\n",
       "      <td>Ecuador</td>\n",
       "      <td>Nigeria</td>\n",
       "      <td>1.0</td>\n",
       "      <td>0.0</td>\n",
       "      <td>Friendly</td>\n",
       "      <td>Harrison</td>\n",
       "      <td>United States</td>\n",
       "      <td>True</td>\n",
       "      <td>2022</td>\n",
       "    </tr>\n",
       "    <tr>\n",
       "      <th>43850</th>\n",
       "      <td>2022-06-11</td>\n",
       "      <td>Ecuador</td>\n",
       "      <td>Cape Verde</td>\n",
       "      <td>1.0</td>\n",
       "      <td>0.0</td>\n",
       "      <td>Friendly</td>\n",
       "      <td>Fort Lauderdale</td>\n",
       "      <td>United States</td>\n",
       "      <td>True</td>\n",
       "      <td>2022</td>\n",
       "    </tr>\n",
       "    <tr>\n",
       "      <th>44028</th>\n",
       "      <td>2022-09-27</td>\n",
       "      <td>Ecuador</td>\n",
       "      <td>Japan</td>\n",
       "      <td>0.0</td>\n",
       "      <td>0.0</td>\n",
       "      <td>Kirin Challenge Cup</td>\n",
       "      <td>Düsseldorf</td>\n",
       "      <td>Germany</td>\n",
       "      <td>True</td>\n",
       "      <td>2022</td>\n",
       "    </tr>\n",
       "  </tbody>\n",
       "</table>\n",
       "<p>249 rows × 10 columns</p>\n",
       "</div>"
      ],
      "text/plain": [
       "            date home_team   away_team  home_score  away_score  \\\n",
       "2141  1938-08-11   Ecuador        Peru         1.0         9.0   \n",
       "2148  1938-08-19   Ecuador   Venezuela         5.0         2.0   \n",
       "2193  1939-01-22   Ecuador     Uruguay         0.0         6.0   \n",
       "2201  1939-02-12   Ecuador    Paraguay         1.0         3.0   \n",
       "2340  1941-02-09   Ecuador     Uruguay         0.0         6.0   \n",
       "...          ...       ...         ...         ...         ...   \n",
       "43391 2022-01-27   Ecuador      Brazil         1.0         1.0   \n",
       "43556 2022-03-29   Ecuador   Argentina         1.0         1.0   \n",
       "43660 2022-06-02   Ecuador     Nigeria         1.0         0.0   \n",
       "43850 2022-06-11   Ecuador  Cape Verde         1.0         0.0   \n",
       "44028 2022-09-27   Ecuador       Japan         0.0         0.0   \n",
       "\n",
       "                         tournament             city        country  neutral  \\\n",
       "2141               Bolivarian Games           Bogotá       Colombia     True   \n",
       "2148               Bolivarian Games           Bogotá       Colombia     True   \n",
       "2193                   Copa América             Lima           Peru     True   \n",
       "2201                   Copa América             Lima           Peru     True   \n",
       "2340                   Copa América         Santiago          Chile     True   \n",
       "...                             ...              ...            ...      ...   \n",
       "43391  FIFA World Cup qualification            Quito        Ecuador    False   \n",
       "43556  FIFA World Cup qualification        Guayaquil        Ecuador    False   \n",
       "43660                      Friendly         Harrison  United States     True   \n",
       "43850                      Friendly  Fort Lauderdale  United States     True   \n",
       "44028           Kirin Challenge Cup       Düsseldorf        Germany     True   \n",
       "\n",
       "       Year  \n",
       "2141   1938  \n",
       "2148   1938  \n",
       "2193   1939  \n",
       "2201   1939  \n",
       "2340   1941  \n",
       "...     ...  \n",
       "43391  2022  \n",
       "43556  2022  \n",
       "43660  2022  \n",
       "43850  2022  \n",
       "44028  2022  \n",
       "\n",
       "[249 rows x 10 columns]"
      ]
     },
     "execution_count": 22,
     "metadata": {},
     "output_type": "execute_result"
    }
   ],
   "source": [
    "all_results[all_results.home_team == 'Ecuador']"
   ]
  },
  {
   "cell_type": "markdown",
   "metadata": {},
   "source": [
    "#### - Merging both Datasets Ranking_fifa and All_Results"
   ]
  },
  {
   "cell_type": "code",
   "execution_count": 23,
   "metadata": {},
   "outputs": [],
   "source": [
    "results_rank = pd.merge(all_results, rank_avg_year, how='left', left_on=['home_team','Year'], right_on=['country_full','Year'])"
   ]
  },
  {
   "cell_type": "code",
   "execution_count": 24,
   "metadata": {},
   "outputs": [],
   "source": [
    "results_rank.rename(columns={'rank':'home_rank','total_points':'home_points'}, inplace=True)\n",
    "# Drop columns that are not useful anymore \n",
    "results_rank.drop(columns=['city','country_full','previous_points','rank_change'], axis=1, inplace=True)"
   ]
  },
  {
   "cell_type": "code",
   "execution_count": 25,
   "metadata": {},
   "outputs": [],
   "source": [
    "results_rank = pd.merge(results_rank, rank_avg_year, how='left', left_on=['away_team','Year'], right_on=['country_full','Year'])"
   ]
  },
  {
   "cell_type": "code",
   "execution_count": 26,
   "metadata": {},
   "outputs": [],
   "source": [
    "results_rank.rename(columns={'rank':'away_rank','total_points':'away_points'}, inplace=True)\n",
    "# Drop columns that are not useful anymore \n",
    "results_rank.drop(columns=['country_full','previous_points','rank_change'], axis=1, inplace=True)"
   ]
  },
  {
   "cell_type": "code",
   "execution_count": 27,
   "metadata": {},
   "outputs": [],
   "source": [
    "results_rank.sort_values(by=['home_team','date'], inplace=True)"
   ]
  },
  {
   "cell_type": "code",
   "execution_count": 28,
   "metadata": {},
   "outputs": [],
   "source": [
    "result_rank = results_rank.reset_index(drop=True)"
   ]
  },
  {
   "cell_type": "code",
   "execution_count": 29,
   "metadata": {},
   "outputs": [],
   "source": [
    "# Populate NA values\n",
    "results_rank.fillna(method='bfill', inplace=True)"
   ]
  },
  {
   "cell_type": "code",
   "execution_count": 30,
   "metadata": {},
   "outputs": [],
   "source": [
    "# Drop NA values\n",
    "results_rank.dropna(inplace=True)"
   ]
  },
  {
   "cell_type": "code",
   "execution_count": 31,
   "metadata": {},
   "outputs": [],
   "source": [
    "results_rank.reset_index(drop=True, inplace=True)"
   ]
  },
  {
   "cell_type": "code",
   "execution_count": 32,
   "metadata": {},
   "outputs": [],
   "source": [
    "results_rank[['home_rank','home_points','away_rank','away_points']] = results_rank[['home_rank','home_points','away_rank','away_points']].astype(int)"
   ]
  },
  {
   "cell_type": "code",
   "execution_count": 33,
   "metadata": {},
   "outputs": [],
   "source": [
    "# Code the result as 2 = home_team wins, 1 = tie, 0 = home_team loses\n",
    "result = []\n",
    "for row in range(len(results_rank)):\n",
    "    if results_rank.home_score[row] == results_rank.away_score[row]:\n",
    "        result.append(1)\n",
    "    \n",
    "    elif results_rank.home_score[row] > results_rank.away_score[row]:\n",
    "        result.append(2)\n",
    "\n",
    "    else: \n",
    "        result.append(0)"
   ]
  },
  {
   "cell_type": "code",
   "execution_count": 34,
   "metadata": {},
   "outputs": [],
   "source": [
    "results_rank['result'] = result"
   ]
  },
  {
   "cell_type": "code",
   "execution_count": 35,
   "metadata": {},
   "outputs": [],
   "source": [
    "# Replace unknown-code country\n",
    "results_rank.country.replace({'England':'United Kingdom','Wales':'United Kingdom', 'Western Samoa':'Samoa', 'China PR':'China'\n",
    ",'Netherlands Guyana':'Guyana', 'Netherlands Antilles':'Haiti', 'Antilles':'Haiti','Vietnam Republic':'Vietnam', 'Soviet Union':'Russia',\n",
    "'British Guyana':'Guyana','Dahomey':'Suriname','Surinam':'Suriname','Upper Volta':'Nigeria', 'Yugoslavia':'Czech Republic','Malaya':'Malaysia',\n",
    "'Sint Maarten':'Haiti','Manchuria':'China','Burma':'Myanmar', 'Vietnam DR':'Vietnam', 'Zaïre':'Congo', 'Scotland':'United Kingdom',\n",
    "'Bohemia':'Czech Republic', 'Czechoslovakia':'Czech Republic','Bohemia and Moravia':'Czech Republic','Belgian Congo':'Congo','DR Congo':'Congo'\n",
    ",'French Somaliland':'Congo', 'United Arab Republic':'Egypt', 'Lautoka':'Fiji','German DR':'Germany','Gold Coast':'Australia',\n",
    "'Northern Rhodesia':'Egypt', 'Portuguese Guinea':'Guinea', 'Ceylon':'Sri Lanka','Tanganyika':'Tanzania', 'Zanzibar':'Tanzania',\n",
    "'Kosovo':'Russia','Nyasaland':'Malawi', 'Mali Federation':'Mali','Northern Ireland':'Ireland','Irish Free State':'Ireland','Éire':'Ireland', \n",
    "'Republic of Ireland':'Ireland', 'Saarland':'Germany', 'Serbia and Montenegro':'Serbia','Tahiti':'New Zealand','East Timor':'Indonesia',\n",
    "'New Hebrides':'New Zealand','Yemen AR':'Yemen','Yemen DPR':'Yemen', 'Southern Rhodesia':'Congo','Rhodesia':'Congo'}, inplace=True)"
   ]
  },
  {
   "cell_type": "markdown",
   "metadata": {},
   "source": [
    "#### - Mapping continents where the games took place"
   ]
  },
  {
   "cell_type": "code",
   "execution_count": 36,
   "metadata": {},
   "outputs": [],
   "source": [
    "continent_dict = {}\n",
    "\n",
    "for country in results_rank.country.unique():\n",
    "    country_code = pc.country_name_to_country_alpha2(country, cn_name_format='default')\n",
    "    conti_code = pc.country_alpha2_to_continent_code(country_code)\n",
    "    continent_dict[country] = conti_code"
   ]
  },
  {
   "cell_type": "code",
   "execution_count": 37,
   "metadata": {},
   "outputs": [],
   "source": [
    "results_rank['continent'] = results_rank.country.map(continent_dict)"
   ]
  },
  {
   "cell_type": "code",
   "execution_count": 38,
   "metadata": {},
   "outputs": [],
   "source": [
    "all_games_results = results_rank.copy()"
   ]
  },
  {
   "cell_type": "code",
   "execution_count": 39,
   "metadata": {},
   "outputs": [],
   "source": [
    "all_games_results.drop(columns=['home_score', 'away_score','country'], axis=1, inplace=True)"
   ]
  },
  {
   "cell_type": "code",
   "execution_count": 40,
   "metadata": {},
   "outputs": [
    {
     "data": {
      "text/html": [
       "<div>\n",
       "<style scoped>\n",
       "    .dataframe tbody tr th:only-of-type {\n",
       "        vertical-align: middle;\n",
       "    }\n",
       "\n",
       "    .dataframe tbody tr th {\n",
       "        vertical-align: top;\n",
       "    }\n",
       "\n",
       "    .dataframe thead th {\n",
       "        text-align: right;\n",
       "    }\n",
       "</style>\n",
       "<table border=\"1\" class=\"dataframe\">\n",
       "  <thead>\n",
       "    <tr style=\"text-align: right;\">\n",
       "      <th></th>\n",
       "      <th>date</th>\n",
       "      <th>home_team</th>\n",
       "      <th>away_team</th>\n",
       "      <th>tournament</th>\n",
       "      <th>neutral</th>\n",
       "      <th>Year</th>\n",
       "      <th>home_rank</th>\n",
       "      <th>home_points</th>\n",
       "      <th>away_rank</th>\n",
       "      <th>away_points</th>\n",
       "      <th>result</th>\n",
       "      <th>continent</th>\n",
       "    </tr>\n",
       "  </thead>\n",
       "  <tbody>\n",
       "    <tr>\n",
       "      <th>0</th>\n",
       "      <td>2012-09-25</td>\n",
       "      <td>Abkhazia</td>\n",
       "      <td>Artsakh</td>\n",
       "      <td>Friendly</td>\n",
       "      <td>False</td>\n",
       "      <td>2012</td>\n",
       "      <td>199</td>\n",
       "      <td>42</td>\n",
       "      <td>127</td>\n",
       "      <td>349</td>\n",
       "      <td>1</td>\n",
       "      <td>AS</td>\n",
       "    </tr>\n",
       "    <tr>\n",
       "      <th>1</th>\n",
       "      <td>2014-06-01</td>\n",
       "      <td>Abkhazia</td>\n",
       "      <td>Occitania</td>\n",
       "      <td>CONIFA World Football Cup</td>\n",
       "      <td>True</td>\n",
       "      <td>2014</td>\n",
       "      <td>199</td>\n",
       "      <td>42</td>\n",
       "      <td>127</td>\n",
       "      <td>349</td>\n",
       "      <td>1</td>\n",
       "      <td>EU</td>\n",
       "    </tr>\n",
       "    <tr>\n",
       "      <th>2</th>\n",
       "      <td>2014-06-04</td>\n",
       "      <td>Abkhazia</td>\n",
       "      <td>South Ossetia</td>\n",
       "      <td>CONIFA World Football Cup</td>\n",
       "      <td>True</td>\n",
       "      <td>2014</td>\n",
       "      <td>199</td>\n",
       "      <td>42</td>\n",
       "      <td>127</td>\n",
       "      <td>349</td>\n",
       "      <td>1</td>\n",
       "      <td>EU</td>\n",
       "    </tr>\n",
       "    <tr>\n",
       "      <th>3</th>\n",
       "      <td>2014-06-07</td>\n",
       "      <td>Abkhazia</td>\n",
       "      <td>Occitania</td>\n",
       "      <td>CONIFA World Football Cup</td>\n",
       "      <td>True</td>\n",
       "      <td>2014</td>\n",
       "      <td>199</td>\n",
       "      <td>42</td>\n",
       "      <td>127</td>\n",
       "      <td>349</td>\n",
       "      <td>0</td>\n",
       "      <td>EU</td>\n",
       "    </tr>\n",
       "    <tr>\n",
       "      <th>4</th>\n",
       "      <td>2016-05-29</td>\n",
       "      <td>Abkhazia</td>\n",
       "      <td>Chagos Islands</td>\n",
       "      <td>CONIFA World Football Cup</td>\n",
       "      <td>False</td>\n",
       "      <td>2016</td>\n",
       "      <td>199</td>\n",
       "      <td>42</td>\n",
       "      <td>127</td>\n",
       "      <td>349</td>\n",
       "      <td>2</td>\n",
       "      <td>AS</td>\n",
       "    </tr>\n",
       "  </tbody>\n",
       "</table>\n",
       "</div>"
      ],
      "text/plain": [
       "        date home_team       away_team                 tournament  neutral  \\\n",
       "0 2012-09-25  Abkhazia         Artsakh                   Friendly    False   \n",
       "1 2014-06-01  Abkhazia       Occitania  CONIFA World Football Cup     True   \n",
       "2 2014-06-04  Abkhazia   South Ossetia  CONIFA World Football Cup     True   \n",
       "3 2014-06-07  Abkhazia       Occitania  CONIFA World Football Cup     True   \n",
       "4 2016-05-29  Abkhazia  Chagos Islands  CONIFA World Football Cup    False   \n",
       "\n",
       "   Year  home_rank  home_points  away_rank  away_points  result continent  \n",
       "0  2012        199           42        127          349       1        AS  \n",
       "1  2014        199           42        127          349       1        EU  \n",
       "2  2014        199           42        127          349       1        EU  \n",
       "3  2014        199           42        127          349       0        EU  \n",
       "4  2016        199           42        127          349       2        AS  "
      ]
     },
     "execution_count": 40,
     "metadata": {},
     "output_type": "execute_result"
    }
   ],
   "source": [
    "all_games_results.head()"
   ]
  },
  {
   "cell_type": "code",
   "execution_count": 41,
   "metadata": {},
   "outputs": [],
   "source": [
    "all_games_results.set_index([all_games_results.index,'date'], inplace=True)"
   ]
  },
  {
   "cell_type": "markdown",
   "metadata": {},
   "source": [
    "#### - Differentiate FIFA World Cup Games from other Tournaments and Friendly Games "
   ]
  },
  {
   "cell_type": "code",
   "execution_count": 42,
   "metadata": {},
   "outputs": [],
   "source": [
    "tournament_dict = {'FIFA World Cup':1}"
   ]
  },
  {
   "cell_type": "code",
   "execution_count": 43,
   "metadata": {},
   "outputs": [],
   "source": [
    "all_games_results['wcup_games'] = all_games_results.tournament.map(tournament_dict)"
   ]
  },
  {
   "cell_type": "code",
   "execution_count": 44,
   "metadata": {},
   "outputs": [],
   "source": [
    "all_games_results.fillna(0, inplace=True)"
   ]
  },
  {
   "cell_type": "code",
   "execution_count": 45,
   "metadata": {},
   "outputs": [],
   "source": [
    "all_games_results['wcup_games'] = all_games_results['wcup_games'].astype(int)"
   ]
  },
  {
   "cell_type": "markdown",
   "metadata": {},
   "source": [
    "#### - Encode all object variables into numbers"
   ]
  },
  {
   "cell_type": "code",
   "execution_count": 46,
   "metadata": {},
   "outputs": [],
   "source": [
    "country_dict = {}\n",
    "\n",
    "for i, country in enumerate(sorted(list(set(pd.concat([all_games_results.home_team, all_games_results.away_team], axis=0))))):\n",
    "    country_dict[country] = i"
   ]
  },
  {
   "cell_type": "code",
   "execution_count": 47,
   "metadata": {},
   "outputs": [],
   "source": [
    "inv_country = {x:i for i, x in country_dict.items()}"
   ]
  },
  {
   "cell_type": "code",
   "execution_count": 48,
   "metadata": {},
   "outputs": [],
   "source": [
    "all_games_results['home_code'] = all_games_results.home_team.map(country_dict)\n",
    "all_games_results['away_code'] = all_games_results.away_team.map(country_dict)"
   ]
  },
  {
   "cell_type": "code",
   "execution_count": 49,
   "metadata": {},
   "outputs": [],
   "source": [
    "all_games_results['neutral'] = all_games_results['neutral'].astype(int)"
   ]
  },
  {
   "cell_type": "code",
   "execution_count": 50,
   "metadata": {},
   "outputs": [],
   "source": [
    "all_games_results['continent'] = all_games_results['continent'].astype('category').cat.codes"
   ]
  },
  {
   "cell_type": "code",
   "execution_count": 51,
   "metadata": {},
   "outputs": [],
   "source": [
    "all_games_code = all_games_results.copy()"
   ]
  },
  {
   "cell_type": "code",
   "execution_count": 52,
   "metadata": {},
   "outputs": [],
   "source": [
    "# Drop categorical variables\n",
    "all_games_code.drop(['home_team','away_team','tournament'], axis=1, inplace=True)"
   ]
  },
  {
   "cell_type": "code",
   "execution_count": 53,
   "metadata": {},
   "outputs": [
    {
     "data": {
      "image/png": "[encoded data removed]",
      "text/plain": [
       "<Figure size 2000x400 with 1 Axes>"
      ]
     },
     "metadata": {},
     "output_type": "display_data"
    }
   ],
   "source": [
    "fig, ax = plt.subplots(figsize=(20,4))\n",
    "ax.plot(all_games_results[all_games_results.home_team == 'Ecuador']['Year'], all_games_results[all_games_results.home_team == 'Ecuador']['home_rank'])\n",
    "ax.set_xlim(1992,2022)\n",
    "plt.show()"
   ]
  },
  {
   "cell_type": "code",
   "execution_count": 54,
   "metadata": {},
   "outputs": [
    {
     "data": {
      "image/png": "[encoded data removed]",
      "text/plain": [
       "<Figure size 1000x600 with 2 Axes>"
      ]
     },
     "metadata": {},
     "output_type": "display_data"
    }
   ],
   "source": [
    "fig, ax = plt.subplots(figsize=(10,6))\n",
    "sns.heatmap(round(all_games_code.corr(),2), cmap=\"YlGnBu\", annot=True);"
   ]
  },
  {
   "cell_type": "code",
   "execution_count": 55,
   "metadata": {},
   "outputs": [],
   "source": [
    "all_games_code_f = all_games_code[all_games_code.Year >= 2010]"
   ]
  },
  {
   "cell_type": "markdown",
   "metadata": {},
   "source": [
    "## 4. Split dataset into training and validation sets"
   ]
  },
  {
   "cell_type": "code",
   "execution_count": 56,
   "metadata": {},
   "outputs": [],
   "source": [
    "Y = all_games_code_f.result\n",
    "X = all_games_code_f.drop('result', axis=1)"
   ]
  },
  {
   "cell_type": "code",
   "execution_count": 57,
   "metadata": {},
   "outputs": [],
   "source": [
    "X_train, X_valid, Y_train, Y_valid = train_test_split(X, Y, test_size=0.25, random_state=82)"
   ]
  },
  {
   "cell_type": "markdown",
   "metadata": {},
   "source": [
    "## 5. Preprocessing Data"
   ]
  },
  {
   "cell_type": "code",
   "execution_count": 58,
   "metadata": {},
   "outputs": [],
   "source": [
    "scaler = StandardScaler()\n",
    "X_train_s = pd.DataFrame(scaler.fit_transform(X_train))\n",
    "X_valid_s = pd.DataFrame(scaler.transform(X_valid))"
   ]
  },
  {
   "cell_type": "code",
   "execution_count": 59,
   "metadata": {},
   "outputs": [
    {
     "data": {
      "text/plain": [
       "2    4293\n",
       "0    2528\n",
       "1    2071\n",
       "Name: result, dtype: int64"
      ]
     },
     "execution_count": 59,
     "metadata": {},
     "output_type": "execute_result"
    }
   ],
   "source": [
    "Y_train.value_counts()"
   ]
  },
  {
   "cell_type": "markdown",
   "metadata": {},
   "source": [
    "## 6. Modeling using XGBoost and Random Forest"
   ]
  },
  {
   "cell_type": "markdown",
   "metadata": {},
   "source": [
    "### Random Forest"
   ]
  },
  {
   "cell_type": "code",
   "execution_count": 60,
   "metadata": {},
   "outputs": [],
   "source": [
    "model_rf = RandomForestClassifier(max_depth=5, n_estimators=1000, criterion='entropy')\n",
    "model_rf = model_rf.fit(X_train, Y_train)"
   ]
  },
  {
   "cell_type": "code",
   "execution_count": 61,
   "metadata": {},
   "outputs": [],
   "source": [
    "Y_pred = model_rf.predict(X_valid)"
   ]
  },
  {
   "cell_type": "code",
   "execution_count": 62,
   "metadata": {},
   "outputs": [
    {
     "name": "stdout",
     "output_type": "stream",
     "text": [
      "              precision    recall  f1-score   support\n",
      "\n",
      "           0       0.58      0.41      0.48       871\n",
      "           1       0.00      0.00      0.00       714\n",
      "           2       0.54      0.91      0.67      1379\n",
      "\n",
      "    accuracy                           0.55      2964\n",
      "   macro avg       0.37      0.44      0.39      2964\n",
      "weighted avg       0.42      0.55      0.46      2964\n",
      "\n"
     ]
    }
   ],
   "source": [
    "print(classification_report(Y_valid, Y_pred, zero_division=0))"
   ]
  },
  {
   "cell_type": "code",
   "execution_count": 63,
   "metadata": {},
   "outputs": [
    {
     "name": "stdout",
     "output_type": "stream",
     "text": [
      "0.5452091767881242\n"
     ]
    }
   ],
   "source": [
    "print(accuracy_score(Y_valid, Y_pred))"
   ]
  },
  {
   "cell_type": "markdown",
   "metadata": {},
   "source": [
    "### XGBoost"
   ]
  },
  {
   "cell_type": "code",
   "execution_count": 427,
   "metadata": {},
   "outputs": [
    {
     "name": "stdout",
     "output_type": "stream",
     "text": [
      "[0]\tvalidation_0-mlogloss:1.07815\tvalidation_1-mlogloss:1.07978\n",
      "[200]\tvalidation_0-mlogloss:0.83643\tvalidation_1-mlogloss:0.92274\n",
      "[400]\tvalidation_0-mlogloss:0.78165\tvalidation_1-mlogloss:0.92621\n",
      "[600]\tvalidation_0-mlogloss:0.73853\tvalidation_1-mlogloss:0.93577\n",
      "[800]\tvalidation_0-mlogloss:0.70151\tvalidation_1-mlogloss:0.94364\n",
      "[999]\tvalidation_0-mlogloss:0.67004\tvalidation_1-mlogloss:0.95102\n"
     ]
    }
   ],
   "source": [
    "model_xgb = XGBClassifier(learning_rate=0.1, n_estimators=1000, max_depth=3, subsample=0.8, colsample_bytree=0.8, \n",
    "objective= 'multi:softprob', nthread=4, seed=27)\n",
    "\n",
    "model_xgb = model_xgb.fit(X_train, Y_train, eval_set=[(X_train, Y_train),(X_valid, Y_valid)], verbose=200)"
   ]
  },
  {
   "cell_type": "code",
   "execution_count": 428,
   "metadata": {},
   "outputs": [],
   "source": [
    "Y_pred = model_xgb.predict(X_valid)"
   ]
  },
  {
   "cell_type": "code",
   "execution_count": 429,
   "metadata": {},
   "outputs": [
    {
     "name": "stdout",
     "output_type": "stream",
     "text": [
      "0.5566801619433198\n"
     ]
    }
   ],
   "source": [
    "print(accuracy_score(Y_valid, Y_pred))"
   ]
  },
  {
   "cell_type": "code",
   "execution_count": 67,
   "metadata": {},
   "outputs": [
    {
     "name": "stdout",
     "output_type": "stream",
     "text": [
      "              precision    recall  f1-score   support\n",
      "\n",
      "           0       0.56      0.53      0.55       871\n",
      "           1       0.32      0.14      0.20       714\n",
      "           2       0.60      0.79      0.68      1379\n",
      "\n",
      "    accuracy                           0.56      2964\n",
      "   macro avg       0.49      0.49      0.47      2964\n",
      "weighted avg       0.52      0.56      0.52      2964\n",
      "\n"
     ]
    }
   ],
   "source": [
    "print(classification_report(Y_valid, Y_pred))"
   ]
  },
  {
   "cell_type": "markdown",
   "metadata": {},
   "source": [
    "#### WORLD CUP Groups Stage"
   ]
  },
  {
   "cell_type": "code",
   "execution_count": 361,
   "metadata": {},
   "outputs": [],
   "source": [
    "wcup_fixture = pd.read_excel(r'C:\\Users\\USUARIO\\Documents\\GitHub\\Assorted-Projects\\Datasets\\WorldCUP\\wcup_template.xlsx',sheet_name='group')"
   ]
  },
  {
   "cell_type": "code",
   "execution_count": 362,
   "metadata": {},
   "outputs": [],
   "source": [
    "wcup_fixture['continent'] = wcup_fixture.continent.replace({'AS':1})\n",
    "wcup_fixture['home_code'], wcup_fixture['away_code'] = wcup_fixture.home_code.map(country_dict), wcup_fixture.away_code.map(country_dict)"
   ]
  },
  {
   "cell_type": "code",
   "execution_count": 363,
   "metadata": {},
   "outputs": [],
   "source": [
    "X_test = wcup_fixture.set_index('group')"
   ]
  },
  {
   "cell_type": "code",
   "execution_count": 364,
   "metadata": {},
   "outputs": [],
   "source": [
    "Y_pred = model_xgb.predict(X_test)"
   ]
  },
  {
   "cell_type": "code",
   "execution_count": 365,
   "metadata": {},
   "outputs": [],
   "source": [
    "wcup_fixture['Predi_Home'] = Y_pred"
   ]
  },
  {
   "cell_type": "code",
   "execution_count": 366,
   "metadata": {},
   "outputs": [],
   "source": [
    "wcup_fixture['Predi_Home'].replace({2:3}, inplace=True)"
   ]
  },
  {
   "cell_type": "code",
   "execution_count": 367,
   "metadata": {},
   "outputs": [],
   "source": [
    "wcup_fixture['Predi_away'] = wcup_fixture['Predi_Home'].replace({3:0,1:1,0:3},)"
   ]
  },
  {
   "cell_type": "code",
   "execution_count": 368,
   "metadata": {},
   "outputs": [],
   "source": [
    "# Making 1 column to sum up the points\n",
    "wcup_groups = pd.concat([wcup_fixture[['group','home_code', 'Predi_Home']], \n",
    "wcup_fixture[['group','away_code', 'Predi_away']].rename(columns={'away_code':'home_code', 'Predi_away':'Predi_Home'})])"
   ]
  },
  {
   "cell_type": "code",
   "execution_count": 369,
   "metadata": {},
   "outputs": [],
   "source": [
    "wcup_class = wcup_groups.groupby(['group','home_code']).sum().reset_index()\n",
    "wcup_class = wcup_class.sort_values(['group','Predi_Home'], ascending =[True, False])"
   ]
  },
  {
   "cell_type": "code",
   "execution_count": 370,
   "metadata": {},
   "outputs": [],
   "source": [
    "group_class = wcup_class.reset_index(drop=True)"
   ]
  },
  {
   "cell_type": "code",
   "execution_count": 371,
   "metadata": {},
   "outputs": [],
   "source": [
    "wcup_class['home_code'] = wcup_class['home_code'].astype(int)\n",
    "wcup_class['home_code'] = wcup_class['home_code'].map(inv_country) "
   ]
  },
  {
   "cell_type": "markdown",
   "metadata": {},
   "source": [
    "#### WORLD CUP Round of 16"
   ]
  },
  {
   "cell_type": "code",
   "execution_count": 372,
   "metadata": {},
   "outputs": [],
   "source": [
    "wcup_r16 = pd.read_excel(r'C:\\Users\\USUARIO\\Documents\\GitHub\\Assorted-Projects\\Datasets\\WorldCUP\\wcup_template.xlsx',sheet_name='r16')"
   ]
  },
  {
   "cell_type": "code",
   "execution_count": 373,
   "metadata": {},
   "outputs": [],
   "source": [
    "# Arrange the matches regarding the fixture\n",
    "wcup_r16.at[0,'home_code'] = group_class.at[0,'home_code'] \n",
    "wcup_r16.at[0,'away_code'] = group_class.at[5,'home_code']\n",
    "wcup_r16.at[1,'home_code'] = group_class.at[1,'home_code'] \n",
    "wcup_r16.at[1,'away_code'] = group_class.at[4,'home_code']\n",
    "wcup_r16.at[2,'home_code'] = group_class.at[8,'home_code'] \n",
    "wcup_r16.at[2,'away_code'] = group_class.at[13,'home_code']\n",
    "wcup_r16.at[3,'home_code'] = group_class.at[9,'home_code'] \n",
    "wcup_r16.at[3,'away_code'] = group_class.at[12,'home_code']\n",
    "wcup_r16.at[4,'home_code'] = group_class.at[16,'home_code'] \n",
    "wcup_r16.at[4,'away_code'] = group_class.at[21,'home_code']\n",
    "wcup_r16.at[5,'home_code'] = group_class.at[17,'home_code'] \n",
    "wcup_r16.at[5,'away_code'] = group_class.at[20,'home_code']\n",
    "wcup_r16.at[6,'home_code'] = group_class.at[24,'home_code'] \n",
    "wcup_r16.at[6,'away_code'] = group_class.at[29,'home_code']\n",
    "wcup_r16.at[7,'home_code'] = group_class.at[25,'home_code'] \n",
    "wcup_r16.at[7,'away_code'] = group_class.at[28,'home_code'] "
   ]
  },
  {
   "cell_type": "code",
   "execution_count": 374,
   "metadata": {},
   "outputs": [],
   "source": [
    "wcup_r16[['home_code','away_code']] = wcup_r16[['home_code','away_code']].astype(int) "
   ]
  },
  {
   "cell_type": "code",
   "execution_count": 375,
   "metadata": {},
   "outputs": [],
   "source": [
    "# Making the ranks and points dictionaries\n",
    "rank_dict = {}\n",
    "points_dict = {}\n",
    "\n",
    "for country, rank in zip(wcup_fixture['home_code'],wcup_fixture['home_rank']):\n",
    "   rank_dict[country] = rank\n",
    "\n",
    "for country, points in zip(wcup_fixture['home_code'],wcup_fixture['home_points']):\n",
    "   points_dict[country] = points"
   ]
  },
  {
   "cell_type": "code",
   "execution_count": 376,
   "metadata": {},
   "outputs": [],
   "source": [
    "# Map the rank and points of each country rigth after the WORLD CUP\n",
    "wcup_r16['home_rank'] = (wcup_r16.home_code.astype(int)).map(rank_dict)\n",
    "wcup_r16['away_rank'] = (wcup_r16.away_code.astype(int)).map(rank_dict)\n",
    "wcup_r16['home_points'] = (wcup_r16.home_code.astype(int)).map(points_dict)\n",
    "wcup_r16['away_points'] = (wcup_r16.away_code.astype(int)).map(points_dict)\n",
    "wcup_r16['continent'] = wcup_r16.continent.replace({'AS':1})"
   ]
  },
  {
   "cell_type": "code",
   "execution_count": 377,
   "metadata": {},
   "outputs": [],
   "source": [
    "Y_r16_pred =model_rf.predict(wcup_r16)"
   ]
  },
  {
   "cell_type": "code",
   "execution_count": 378,
   "metadata": {},
   "outputs": [],
   "source": [
    "wcup_r16['Predi_home'] =  Y_r16_pred\n",
    "wcup_r16['Predi_away'] = wcup_r16['Predi_home'].replace({2:0,1:1,0:2})"
   ]
  },
  {
   "cell_type": "code",
   "execution_count": 379,
   "metadata": {},
   "outputs": [],
   "source": [
    "wcup_r16_class = pd.concat([wcup_r16[['home_code', 'Predi_home']], \n",
    "wcup_r16[['away_code', 'Predi_away']].rename(columns={'away_code':'home_code', 'Predi_away':'Predi_home'})])\n",
    "wcup_r16_class = wcup_r16_class[wcup_r16_class.Predi_home == 2].sort_index()"
   ]
  },
  {
   "cell_type": "markdown",
   "metadata": {},
   "source": [
    "#### WORLD CUP Round of 8"
   ]
  },
  {
   "cell_type": "code",
   "execution_count": 380,
   "metadata": {},
   "outputs": [],
   "source": [
    "wcup_r8 = pd.read_excel(r'C:\\Users\\USUARIO\\Documents\\GitHub\\Assorted-Projects\\Datasets\\WorldCUP\\wcup_template.xlsx',sheet_name='r8')"
   ]
  },
  {
   "cell_type": "code",
   "execution_count": 381,
   "metadata": {},
   "outputs": [],
   "source": [
    "wcup_r8.at[0,'home_code'] = wcup_r16_class.at[0,'home_code'] \n",
    "wcup_r8.at[0,'away_code'] = wcup_r16_class.at[2,'home_code']\n",
    "wcup_r8.at[1,'home_code'] = wcup_r16_class.at[1,'home_code'] \n",
    "wcup_r8.at[1,'away_code'] = wcup_r16_class.at[3,'home_code']\n",
    "wcup_r8.at[2,'home_code'] = wcup_r16_class.at[4,'home_code'] \n",
    "wcup_r8.at[2,'away_code'] = wcup_r16_class.at[6,'home_code']\n",
    "wcup_r8.at[3,'home_code'] = wcup_r16_class.at[5,'home_code'] \n",
    "wcup_r8.at[3,'away_code'] = wcup_r16_class.at[7,'home_code']"
   ]
  },
  {
   "cell_type": "code",
   "execution_count": 382,
   "metadata": {},
   "outputs": [],
   "source": [
    "wcup_r8[['home_code','away_code']] = wcup_r8[['home_code','away_code']].astype(int)\n",
    "wcup_r8['home_rank'] = wcup_r8.home_code.map(rank_dict)\n",
    "wcup_r8['away_rank'] = wcup_r8.away_code.map(rank_dict)\n",
    "wcup_r8['home_points'] = wcup_r8.home_code.map(points_dict)\n",
    "wcup_r8['away_points'] = wcup_r8.away_code.map(points_dict)\n",
    "wcup_r8['continent'] = wcup_r8.continent.replace({'AS':1})"
   ]
  },
  {
   "cell_type": "code",
   "execution_count": 383,
   "metadata": {},
   "outputs": [],
   "source": [
    "Y_r8_pred = model_rf.predict(wcup_r8)"
   ]
  },
  {
   "cell_type": "code",
   "execution_count": 384,
   "metadata": {},
   "outputs": [],
   "source": [
    "wcup_r8['Predi_home'] = Y_r8_pred\n",
    "wcup_r8['Predi_away'] = wcup_r8['Predi_home'].replace({2:0,1:1,0:2})"
   ]
  },
  {
   "cell_type": "code",
   "execution_count": 385,
   "metadata": {},
   "outputs": [],
   "source": [
    "wcup_r8_class = pd.concat([wcup_r8[['home_code', 'Predi_home']], \n",
    "wcup_r8[['away_code', 'Predi_away']].rename(columns={'away_code':'home_code', 'Predi_away':'Predi_home'})])\n",
    "wcup_r8_class = wcup_r8_class[wcup_r8_class.Predi_home == 2].sort_index()"
   ]
  },
  {
   "cell_type": "markdown",
   "metadata": {},
   "source": [
    "#### WORLD CUP Semifinals"
   ]
  },
  {
   "cell_type": "code",
   "execution_count": 386,
   "metadata": {},
   "outputs": [],
   "source": [
    "wcup_semi = pd.read_excel(r'C:\\Users\\USUARIO\\Documents\\GitHub\\Assorted-Projects\\Datasets\\WorldCUP\\wcup_template.xlsx',sheet_name='semi')"
   ]
  },
  {
   "cell_type": "code",
   "execution_count": 387,
   "metadata": {},
   "outputs": [],
   "source": [
    "wcup_semi.at[0,'home_code'] = wcup_r8_class.at[0,'home_code'] \n",
    "wcup_semi.at[0,'away_code'] = wcup_r8_class.at[1,'home_code']\n",
    "wcup_semi.at[1,'home_code'] = wcup_r8_class.at[2,'home_code'] \n",
    "wcup_semi.at[1,'away_code'] = wcup_r8_class.at[3,'home_code']"
   ]
  },
  {
   "cell_type": "code",
   "execution_count": 388,
   "metadata": {},
   "outputs": [],
   "source": [
    "wcup_semi[['home_code','away_code']] = wcup_semi[['home_code','away_code']].astype(int)\n",
    "wcup_semi['home_rank'] = wcup_semi.home_code.map(rank_dict)\n",
    "wcup_semi['away_rank'] = wcup_semi.away_code.map(rank_dict)\n",
    "wcup_semi['home_points'] = wcup_semi.home_code.map(points_dict)\n",
    "wcup_semi['away_points'] = wcup_semi.away_code.map(points_dict)\n",
    "wcup_semi['continent'] = wcup_semi.continent.replace({'AS':1})"
   ]
  },
  {
   "cell_type": "code",
   "execution_count": 389,
   "metadata": {},
   "outputs": [],
   "source": [
    "Y_semi_pred = model_rf.predict(wcup_semi)\n",
    "wcup_semi['Predi_home'] = Y_semi_pred\n",
    "wcup_semi['Predi_away'] = wcup_semi['Predi_home'].replace({2:0,1:1,0:2})"
   ]
  },
  {
   "cell_type": "code",
   "execution_count": 390,
   "metadata": {},
   "outputs": [],
   "source": [
    "wcup_semi_class = pd.concat([wcup_semi[['home_code', 'Predi_home']], \n",
    "wcup_semi[['away_code', 'Predi_away']].rename(columns={'away_code':'home_code', 'Predi_away':'Predi_home'})])\n",
    "wcup_semi_class = wcup_semi_class[wcup_semi_class.Predi_home == 2].sort_index()"
   ]
  },
  {
   "cell_type": "markdown",
   "metadata": {},
   "source": [
    "#### WORLD CUP Finals"
   ]
  },
  {
   "cell_type": "code",
   "execution_count": 391,
   "metadata": {},
   "outputs": [],
   "source": [
    "wcup_final = pd.read_excel(r'C:\\Users\\USUARIO\\Documents\\GitHub\\Assorted-Projects\\Datasets\\WorldCUP\\wcup_template.xlsx',sheet_name='final')"
   ]
  },
  {
   "cell_type": "code",
   "execution_count": 392,
   "metadata": {},
   "outputs": [],
   "source": [
    "wcup_final.at[0,'home_code'] = wcup_semi_class.at[0,'home_code'] \n",
    "wcup_final.at[0,'away_code'] = wcup_semi_class.at[1,'home_code']"
   ]
  },
  {
   "cell_type": "code",
   "execution_count": 393,
   "metadata": {},
   "outputs": [],
   "source": [
    "wcup_final[['home_code','away_code']] = wcup_final[['home_code','away_code']].astype(int)\n",
    "wcup_final['home_rank'] = wcup_final.home_code.map(rank_dict)\n",
    "wcup_final['away_rank'] = wcup_final.away_code.map(rank_dict)\n",
    "wcup_final['home_points'] = wcup_final.home_code.map(points_dict)\n",
    "wcup_final['away_points'] = wcup_final.away_code.map(points_dict)\n",
    "wcup_final['continent'] = wcup_final.continent.replace({'AS':1})"
   ]
  },
  {
   "cell_type": "code",
   "execution_count": 394,
   "metadata": {},
   "outputs": [],
   "source": [
    "Y_final_pred = model_rf.predict(wcup_final)\n",
    "wcup_final['Predi_home'] = Y_final_pred\n",
    "wcup_final['Predi_away'] = wcup_final['Predi_home'].replace({2:0,1:1,0:2})"
   ]
  },
  {
   "cell_type": "markdown",
   "metadata": {},
   "source": [
    "##### Mapping country codes with country names"
   ]
  },
  {
   "cell_type": "code",
   "execution_count": 396,
   "metadata": {},
   "outputs": [],
   "source": [
    "wcup_r16['home_code'] = wcup_r16.home_code.map(inv_country)\n",
    "wcup_r16['away_code'] = wcup_r16.away_code.map(inv_country)\n"
   ]
  },
  {
   "cell_type": "code",
   "execution_count": 397,
   "metadata": {},
   "outputs": [],
   "source": [
    "wcup_r8['home_code'] = wcup_r8.home_code.map(inv_country)\n",
    "wcup_r8['away_code'] = wcup_r8.away_code.map(inv_country)\n"
   ]
  },
  {
   "cell_type": "code",
   "execution_count": 398,
   "metadata": {},
   "outputs": [],
   "source": [
    "wcup_semi['home_code'] = wcup_semi.home_code.map(inv_country)\n",
    "wcup_semi['away_code'] = wcup_semi.away_code.map(inv_country)"
   ]
  },
  {
   "cell_type": "code",
   "execution_count": 399,
   "metadata": {},
   "outputs": [],
   "source": [
    "wcup_final['home_code'] = wcup_final.home_code.map(inv_country)\n",
    "wcup_final['away_code'] = wcup_final.away_code.map(inv_country)"
   ]
  },
  {
   "cell_type": "markdown",
   "metadata": {},
   "source": [
    "##### Prediction results all around the competition"
   ]
  },
  {
   "cell_type": "code",
   "execution_count": 402,
   "metadata": {},
   "outputs": [
    {
     "data": {
      "text/html": [
       "<div>\n",
       "<style scoped>\n",
       "    .dataframe tbody tr th:only-of-type {\n",
       "        vertical-align: middle;\n",
       "    }\n",
       "\n",
       "    .dataframe tbody tr th {\n",
       "        vertical-align: top;\n",
       "    }\n",
       "\n",
       "    .dataframe thead th {\n",
       "        text-align: right;\n",
       "    }\n",
       "</style>\n",
       "<table border=\"1\" class=\"dataframe\">\n",
       "  <thead>\n",
       "    <tr style=\"text-align: right;\">\n",
       "      <th></th>\n",
       "      <th></th>\n",
       "      <th>Predi_Home</th>\n",
       "    </tr>\n",
       "    <tr>\n",
       "      <th>group</th>\n",
       "      <th>home_code</th>\n",
       "      <th></th>\n",
       "    </tr>\n",
       "  </thead>\n",
       "  <tbody>\n",
       "    <tr>\n",
       "      <th rowspan=\"4\" valign=\"top\">0</th>\n",
       "      <th>Ecuador</th>\n",
       "      <td>0</td>\n",
       "    </tr>\n",
       "    <tr>\n",
       "      <th>Netherlands</th>\n",
       "      <td>9</td>\n",
       "    </tr>\n",
       "    <tr>\n",
       "      <th>Qatar</th>\n",
       "      <td>3</td>\n",
       "    </tr>\n",
       "    <tr>\n",
       "      <th>Senegal</th>\n",
       "      <td>6</td>\n",
       "    </tr>\n",
       "    <tr>\n",
       "      <th rowspan=\"4\" valign=\"top\">1</th>\n",
       "      <th>England</th>\n",
       "      <td>9</td>\n",
       "    </tr>\n",
       "    <tr>\n",
       "      <th>Iran</th>\n",
       "      <td>1</td>\n",
       "    </tr>\n",
       "    <tr>\n",
       "      <th>United States</th>\n",
       "      <td>6</td>\n",
       "    </tr>\n",
       "    <tr>\n",
       "      <th>Wales</th>\n",
       "      <td>1</td>\n",
       "    </tr>\n",
       "    <tr>\n",
       "      <th rowspan=\"4\" valign=\"top\">2</th>\n",
       "      <th>Argentina</th>\n",
       "      <td>6</td>\n",
       "    </tr>\n",
       "    <tr>\n",
       "      <th>Mexico</th>\n",
       "      <td>6</td>\n",
       "    </tr>\n",
       "    <tr>\n",
       "      <th>Poland</th>\n",
       "      <td>6</td>\n",
       "    </tr>\n",
       "    <tr>\n",
       "      <th>Saudi Arabia</th>\n",
       "      <td>0</td>\n",
       "    </tr>\n",
       "    <tr>\n",
       "      <th rowspan=\"4\" valign=\"top\">3</th>\n",
       "      <th>Australia</th>\n",
       "      <td>3</td>\n",
       "    </tr>\n",
       "    <tr>\n",
       "      <th>Denmark</th>\n",
       "      <td>6</td>\n",
       "    </tr>\n",
       "    <tr>\n",
       "      <th>France</th>\n",
       "      <td>6</td>\n",
       "    </tr>\n",
       "    <tr>\n",
       "      <th>Tunisia</th>\n",
       "      <td>3</td>\n",
       "    </tr>\n",
       "    <tr>\n",
       "      <th rowspan=\"4\" valign=\"top\">4</th>\n",
       "      <th>Costa Rica</th>\n",
       "      <td>3</td>\n",
       "    </tr>\n",
       "    <tr>\n",
       "      <th>Germany</th>\n",
       "      <td>4</td>\n",
       "    </tr>\n",
       "    <tr>\n",
       "      <th>Japan</th>\n",
       "      <td>3</td>\n",
       "    </tr>\n",
       "    <tr>\n",
       "      <th>Spain</th>\n",
       "      <td>7</td>\n",
       "    </tr>\n",
       "    <tr>\n",
       "      <th rowspan=\"4\" valign=\"top\">5</th>\n",
       "      <th>Belgium</th>\n",
       "      <td>9</td>\n",
       "    </tr>\n",
       "    <tr>\n",
       "      <th>Canada</th>\n",
       "      <td>1</td>\n",
       "    </tr>\n",
       "    <tr>\n",
       "      <th>Croatia</th>\n",
       "      <td>4</td>\n",
       "    </tr>\n",
       "    <tr>\n",
       "      <th>Morocco</th>\n",
       "      <td>3</td>\n",
       "    </tr>\n",
       "    <tr>\n",
       "      <th rowspan=\"4\" valign=\"top\">6</th>\n",
       "      <th>Brazil</th>\n",
       "      <td>6</td>\n",
       "    </tr>\n",
       "    <tr>\n",
       "      <th>Cameroon</th>\n",
       "      <td>0</td>\n",
       "    </tr>\n",
       "    <tr>\n",
       "      <th>Serbia</th>\n",
       "      <td>3</td>\n",
       "    </tr>\n",
       "    <tr>\n",
       "      <th>Switzerland</th>\n",
       "      <td>9</td>\n",
       "    </tr>\n",
       "    <tr>\n",
       "      <th rowspan=\"4\" valign=\"top\">7</th>\n",
       "      <th>Ghana</th>\n",
       "      <td>0</td>\n",
       "    </tr>\n",
       "    <tr>\n",
       "      <th>Portugal</th>\n",
       "      <td>6</td>\n",
       "    </tr>\n",
       "    <tr>\n",
       "      <th>South Korea</th>\n",
       "      <td>3</td>\n",
       "    </tr>\n",
       "    <tr>\n",
       "      <th>Uruguay</th>\n",
       "      <td>9</td>\n",
       "    </tr>\n",
       "  </tbody>\n",
       "</table>\n",
       "</div>"
      ],
      "text/plain": [
       "                     Predi_Home\n",
       "group home_code                \n",
       "0     Ecuador                 0\n",
       "      Netherlands             9\n",
       "      Qatar                   3\n",
       "      Senegal                 6\n",
       "1     England                 9\n",
       "      Iran                    1\n",
       "      United States           6\n",
       "      Wales                   1\n",
       "2     Argentina               6\n",
       "      Mexico                  6\n",
       "      Poland                  6\n",
       "      Saudi Arabia            0\n",
       "3     Australia               3\n",
       "      Denmark                 6\n",
       "      France                  6\n",
       "      Tunisia                 3\n",
       "4     Costa Rica              3\n",
       "      Germany                 4\n",
       "      Japan                   3\n",
       "      Spain                   7\n",
       "5     Belgium                 9\n",
       "      Canada                  1\n",
       "      Croatia                 4\n",
       "      Morocco                 3\n",
       "6     Brazil                  6\n",
       "      Cameroon                0\n",
       "      Serbia                  3\n",
       "      Switzerland             9\n",
       "7     Ghana                   0\n",
       "      Portugal                6\n",
       "      South Korea             3\n",
       "      Uruguay                 9"
      ]
     },
     "execution_count": 402,
     "metadata": {},
     "output_type": "execute_result"
    }
   ],
   "source": [
    "wcup_class.groupby(['group','home_code']).sum()"
   ]
  },
  {
   "cell_type": "code",
   "execution_count": 414,
   "metadata": {},
   "outputs": [
    {
     "data": {
      "text/html": [
       "<div>\n",
       "<style scoped>\n",
       "    .dataframe tbody tr th:only-of-type {\n",
       "        vertical-align: middle;\n",
       "    }\n",
       "\n",
       "    .dataframe tbody tr th {\n",
       "        vertical-align: top;\n",
       "    }\n",
       "\n",
       "    .dataframe thead th {\n",
       "        text-align: right;\n",
       "    }\n",
       "</style>\n",
       "<table border=\"1\" class=\"dataframe\">\n",
       "  <thead>\n",
       "    <tr style=\"text-align: right;\">\n",
       "      <th></th>\n",
       "      <th>neutral</th>\n",
       "      <th>Year</th>\n",
       "      <th>home_rank</th>\n",
       "      <th>home_points</th>\n",
       "      <th>away_rank</th>\n",
       "      <th>away_points</th>\n",
       "      <th>continent</th>\n",
       "      <th>wcup_games</th>\n",
       "      <th>home_code</th>\n",
       "      <th>away_code</th>\n",
       "      <th>Predi_home</th>\n",
       "      <th>Predi_away</th>\n",
       "    </tr>\n",
       "  </thead>\n",
       "  <tbody>\n",
       "    <tr>\n",
       "      <th>0</th>\n",
       "      <td>1</td>\n",
       "      <td>2022</td>\n",
       "      <td>10</td>\n",
       "      <td>1658</td>\n",
       "      <td>15</td>\n",
       "      <td>1633</td>\n",
       "      <td>1</td>\n",
       "      <td>1</td>\n",
       "      <td>Netherlands</td>\n",
       "      <td>United States</td>\n",
       "      <td>Winner</td>\n",
       "      <td>-</td>\n",
       "    </tr>\n",
       "    <tr>\n",
       "      <th>1</th>\n",
       "      <td>1</td>\n",
       "      <td>2022</td>\n",
       "      <td>20</td>\n",
       "      <td>1584</td>\n",
       "      <td>5</td>\n",
       "      <td>1761</td>\n",
       "      <td>1</td>\n",
       "      <td>1</td>\n",
       "      <td>Senegal</td>\n",
       "      <td>England</td>\n",
       "      <td>-</td>\n",
       "      <td>Winner</td>\n",
       "    </tr>\n",
       "    <tr>\n",
       "      <th>2</th>\n",
       "      <td>1</td>\n",
       "      <td>2022</td>\n",
       "      <td>4</td>\n",
       "      <td>1765</td>\n",
       "      <td>3</td>\n",
       "      <td>1789</td>\n",
       "      <td>1</td>\n",
       "      <td>1</td>\n",
       "      <td>Argentina</td>\n",
       "      <td>France</td>\n",
       "      <td>-</td>\n",
       "      <td>Winner</td>\n",
       "    </tr>\n",
       "    <tr>\n",
       "      <th>3</th>\n",
       "      <td>1</td>\n",
       "      <td>2022</td>\n",
       "      <td>9</td>\n",
       "      <td>1658</td>\n",
       "      <td>11</td>\n",
       "      <td>1653</td>\n",
       "      <td>1</td>\n",
       "      <td>1</td>\n",
       "      <td>Mexico</td>\n",
       "      <td>Denmark</td>\n",
       "      <td>-</td>\n",
       "      <td>Winner</td>\n",
       "    </tr>\n",
       "    <tr>\n",
       "      <th>4</th>\n",
       "      <td>1</td>\n",
       "      <td>2022</td>\n",
       "      <td>7</td>\n",
       "      <td>1709</td>\n",
       "      <td>16</td>\n",
       "      <td>1621</td>\n",
       "      <td>1</td>\n",
       "      <td>1</td>\n",
       "      <td>Spain</td>\n",
       "      <td>Croatia</td>\n",
       "      <td>Winner</td>\n",
       "      <td>-</td>\n",
       "    </tr>\n",
       "    <tr>\n",
       "      <th>5</th>\n",
       "      <td>1</td>\n",
       "      <td>2022</td>\n",
       "      <td>12</td>\n",
       "      <td>1650</td>\n",
       "      <td>2</td>\n",
       "      <td>1827</td>\n",
       "      <td>1</td>\n",
       "      <td>1</td>\n",
       "      <td>Germany</td>\n",
       "      <td>Belgium</td>\n",
       "      <td>-</td>\n",
       "      <td>Winner</td>\n",
       "    </tr>\n",
       "    <tr>\n",
       "      <th>6</th>\n",
       "      <td>1</td>\n",
       "      <td>2022</td>\n",
       "      <td>14</td>\n",
       "      <td>1635</td>\n",
       "      <td>8</td>\n",
       "      <td>1674</td>\n",
       "      <td>1</td>\n",
       "      <td>1</td>\n",
       "      <td>Switzerland</td>\n",
       "      <td>Portugal</td>\n",
       "      <td>-</td>\n",
       "      <td>Winner</td>\n",
       "    </tr>\n",
       "    <tr>\n",
       "      <th>7</th>\n",
       "      <td>1</td>\n",
       "      <td>2022</td>\n",
       "      <td>1</td>\n",
       "      <td>1832</td>\n",
       "      <td>13</td>\n",
       "      <td>1635</td>\n",
       "      <td>1</td>\n",
       "      <td>1</td>\n",
       "      <td>Brazil</td>\n",
       "      <td>Uruguay</td>\n",
       "      <td>Winner</td>\n",
       "      <td>-</td>\n",
       "    </tr>\n",
       "  </tbody>\n",
       "</table>\n",
       "</div>"
      ],
      "text/plain": [
       "   neutral  Year  home_rank  home_points  away_rank  away_points  continent  \\\n",
       "0        1  2022         10         1658         15         1633          1   \n",
       "1        1  2022         20         1584          5         1761          1   \n",
       "2        1  2022          4         1765          3         1789          1   \n",
       "3        1  2022          9         1658         11         1653          1   \n",
       "4        1  2022          7         1709         16         1621          1   \n",
       "5        1  2022         12         1650          2         1827          1   \n",
       "6        1  2022         14         1635          8         1674          1   \n",
       "7        1  2022          1         1832         13         1635          1   \n",
       "\n",
       "   wcup_games    home_code      away_code Predi_home Predi_away  \n",
       "0           1  Netherlands  United States     Winner          -  \n",
       "1           1      Senegal        England          -     Winner  \n",
       "2           1    Argentina         France          -     Winner  \n",
       "3           1       Mexico        Denmark          -     Winner  \n",
       "4           1        Spain        Croatia     Winner          -  \n",
       "5           1      Germany        Belgium          -     Winner  \n",
       "6           1  Switzerland       Portugal          -     Winner  \n",
       "7           1       Brazil        Uruguay     Winner          -  "
      ]
     },
     "execution_count": 414,
     "metadata": {},
     "output_type": "execute_result"
    }
   ],
   "source": [
    "wcup_r16[['Predi_home','Predi_away']] = wcup_r16[['Predi_home','Predi_away']].replace({2:'Winner', 0:'-'})\n",
    "wcup_r16"
   ]
  },
  {
   "cell_type": "code",
   "execution_count": 431,
   "metadata": {},
   "outputs": [
    {
     "data": {
      "text/html": [
       "<div>\n",
       "<style scoped>\n",
       "    .dataframe tbody tr th:only-of-type {\n",
       "        vertical-align: middle;\n",
       "    }\n",
       "\n",
       "    .dataframe tbody tr th {\n",
       "        vertical-align: top;\n",
       "    }\n",
       "\n",
       "    .dataframe thead th {\n",
       "        text-align: right;\n",
       "    }\n",
       "</style>\n",
       "<table border=\"1\" class=\"dataframe\">\n",
       "  <thead>\n",
       "    <tr style=\"text-align: right;\">\n",
       "      <th></th>\n",
       "      <th>neutral</th>\n",
       "      <th>Year</th>\n",
       "      <th>home_rank</th>\n",
       "      <th>home_points</th>\n",
       "      <th>away_rank</th>\n",
       "      <th>away_points</th>\n",
       "      <th>continent</th>\n",
       "      <th>wcup_games</th>\n",
       "      <th>home_code</th>\n",
       "      <th>away_code</th>\n",
       "      <th>Predi_home</th>\n",
       "      <th>Predi_away</th>\n",
       "    </tr>\n",
       "  </thead>\n",
       "  <tbody>\n",
       "    <tr>\n",
       "      <th>0</th>\n",
       "      <td>1</td>\n",
       "      <td>2022</td>\n",
       "      <td>10</td>\n",
       "      <td>1658</td>\n",
       "      <td>3</td>\n",
       "      <td>1789</td>\n",
       "      <td>1</td>\n",
       "      <td>1</td>\n",
       "      <td>Netherlands</td>\n",
       "      <td>France</td>\n",
       "      <td>-</td>\n",
       "      <td>Winner</td>\n",
       "    </tr>\n",
       "    <tr>\n",
       "      <th>1</th>\n",
       "      <td>1</td>\n",
       "      <td>2022</td>\n",
       "      <td>5</td>\n",
       "      <td>1761</td>\n",
       "      <td>11</td>\n",
       "      <td>1653</td>\n",
       "      <td>1</td>\n",
       "      <td>1</td>\n",
       "      <td>England</td>\n",
       "      <td>Denmark</td>\n",
       "      <td>Winner</td>\n",
       "      <td>-</td>\n",
       "    </tr>\n",
       "    <tr>\n",
       "      <th>2</th>\n",
       "      <td>1</td>\n",
       "      <td>2022</td>\n",
       "      <td>7</td>\n",
       "      <td>1709</td>\n",
       "      <td>8</td>\n",
       "      <td>1674</td>\n",
       "      <td>1</td>\n",
       "      <td>1</td>\n",
       "      <td>Spain</td>\n",
       "      <td>Portugal</td>\n",
       "      <td>Winner</td>\n",
       "      <td>-</td>\n",
       "    </tr>\n",
       "    <tr>\n",
       "      <th>3</th>\n",
       "      <td>1</td>\n",
       "      <td>2022</td>\n",
       "      <td>2</td>\n",
       "      <td>1827</td>\n",
       "      <td>1</td>\n",
       "      <td>1832</td>\n",
       "      <td>1</td>\n",
       "      <td>1</td>\n",
       "      <td>Belgium</td>\n",
       "      <td>Brazil</td>\n",
       "      <td>-</td>\n",
       "      <td>Winner</td>\n",
       "    </tr>\n",
       "  </tbody>\n",
       "</table>\n",
       "</div>"
      ],
      "text/plain": [
       "   neutral  Year  home_rank  home_points  away_rank  away_points  continent  \\\n",
       "0        1  2022         10         1658          3         1789          1   \n",
       "1        1  2022          5         1761         11         1653          1   \n",
       "2        1  2022          7         1709          8         1674          1   \n",
       "3        1  2022          2         1827          1         1832          1   \n",
       "\n",
       "   wcup_games    home_code away_code Predi_home Predi_away  \n",
       "0           1  Netherlands    France          -     Winner  \n",
       "1           1      England   Denmark     Winner          -  \n",
       "2           1        Spain  Portugal     Winner          -  \n",
       "3           1      Belgium    Brazil          -     Winner  "
      ]
     },
     "execution_count": 431,
     "metadata": {},
     "output_type": "execute_result"
    }
   ],
   "source": [
    "wcup_r8[['Predi_home','Predi_away']] = wcup_r8[['Predi_home','Predi_away']].replace({2:'Winner', 0:'-'})\n",
    "wcup_r8"
   ]
  },
  {
   "cell_type": "code",
   "execution_count": 416,
   "metadata": {},
   "outputs": [
    {
     "data": {
      "text/html": [
       "<div>\n",
       "<style scoped>\n",
       "    .dataframe tbody tr th:only-of-type {\n",
       "        vertical-align: middle;\n",
       "    }\n",
       "\n",
       "    .dataframe tbody tr th {\n",
       "        vertical-align: top;\n",
       "    }\n",
       "\n",
       "    .dataframe thead th {\n",
       "        text-align: right;\n",
       "    }\n",
       "</style>\n",
       "<table border=\"1\" class=\"dataframe\">\n",
       "  <thead>\n",
       "    <tr style=\"text-align: right;\">\n",
       "      <th></th>\n",
       "      <th>neutral</th>\n",
       "      <th>Year</th>\n",
       "      <th>home_rank</th>\n",
       "      <th>home_points</th>\n",
       "      <th>away_rank</th>\n",
       "      <th>away_points</th>\n",
       "      <th>continent</th>\n",
       "      <th>wcup_games</th>\n",
       "      <th>home_code</th>\n",
       "      <th>away_code</th>\n",
       "      <th>Predi_home</th>\n",
       "      <th>Predi_away</th>\n",
       "    </tr>\n",
       "  </thead>\n",
       "  <tbody>\n",
       "    <tr>\n",
       "      <th>0</th>\n",
       "      <td>1</td>\n",
       "      <td>2022</td>\n",
       "      <td>3</td>\n",
       "      <td>1789</td>\n",
       "      <td>5</td>\n",
       "      <td>1761</td>\n",
       "      <td>1</td>\n",
       "      <td>1</td>\n",
       "      <td>France</td>\n",
       "      <td>England</td>\n",
       "      <td>-</td>\n",
       "      <td>Winner</td>\n",
       "    </tr>\n",
       "    <tr>\n",
       "      <th>1</th>\n",
       "      <td>1</td>\n",
       "      <td>2022</td>\n",
       "      <td>7</td>\n",
       "      <td>1709</td>\n",
       "      <td>1</td>\n",
       "      <td>1832</td>\n",
       "      <td>1</td>\n",
       "      <td>1</td>\n",
       "      <td>Spain</td>\n",
       "      <td>Brazil</td>\n",
       "      <td>-</td>\n",
       "      <td>Winner</td>\n",
       "    </tr>\n",
       "  </tbody>\n",
       "</table>\n",
       "</div>"
      ],
      "text/plain": [
       "   neutral  Year  home_rank  home_points  away_rank  away_points  continent  \\\n",
       "0        1  2022          3         1789          5         1761          1   \n",
       "1        1  2022          7         1709          1         1832          1   \n",
       "\n",
       "   wcup_games home_code away_code Predi_home Predi_away  \n",
       "0           1    France   England          -     Winner  \n",
       "1           1     Spain    Brazil          -     Winner  "
      ]
     },
     "execution_count": 416,
     "metadata": {},
     "output_type": "execute_result"
    }
   ],
   "source": [
    "wcup_semi[['Predi_home','Predi_away']] = wcup_semi[['Predi_home','Predi_away']].replace({2:'Winner', 0:'-'})\n",
    "wcup_semi"
   ]
  },
  {
   "cell_type": "code",
   "execution_count": 417,
   "metadata": {},
   "outputs": [
    {
     "data": {
      "text/html": [
       "<div>\n",
       "<style scoped>\n",
       "    .dataframe tbody tr th:only-of-type {\n",
       "        vertical-align: middle;\n",
       "    }\n",
       "\n",
       "    .dataframe tbody tr th {\n",
       "        vertical-align: top;\n",
       "    }\n",
       "\n",
       "    .dataframe thead th {\n",
       "        text-align: right;\n",
       "    }\n",
       "</style>\n",
       "<table border=\"1\" class=\"dataframe\">\n",
       "  <thead>\n",
       "    <tr style=\"text-align: right;\">\n",
       "      <th></th>\n",
       "      <th>neutral</th>\n",
       "      <th>Year</th>\n",
       "      <th>home_rank</th>\n",
       "      <th>home_points</th>\n",
       "      <th>away_rank</th>\n",
       "      <th>away_points</th>\n",
       "      <th>continent</th>\n",
       "      <th>wcup_games</th>\n",
       "      <th>home_code</th>\n",
       "      <th>away_code</th>\n",
       "      <th>Predi_home</th>\n",
       "      <th>Predi_away</th>\n",
       "    </tr>\n",
       "  </thead>\n",
       "  <tbody>\n",
       "    <tr>\n",
       "      <th>0</th>\n",
       "      <td>1</td>\n",
       "      <td>2022</td>\n",
       "      <td>5</td>\n",
       "      <td>1761</td>\n",
       "      <td>1</td>\n",
       "      <td>1832</td>\n",
       "      <td>1</td>\n",
       "      <td>1</td>\n",
       "      <td>England</td>\n",
       "      <td>Brazil</td>\n",
       "      <td>-</td>\n",
       "      <td>Winner</td>\n",
       "    </tr>\n",
       "  </tbody>\n",
       "</table>\n",
       "</div>"
      ],
      "text/plain": [
       "   neutral  Year  home_rank  home_points  away_rank  away_points  continent  \\\n",
       "0        1  2022          5         1761          1         1832          1   \n",
       "\n",
       "   wcup_games home_code away_code Predi_home Predi_away  \n",
       "0           1   England    Brazil          -     Winner  "
      ]
     },
     "execution_count": 417,
     "metadata": {},
     "output_type": "execute_result"
    }
   ],
   "source": [
    "wcup_final[['Predi_home','Predi_away']] = wcup_final[['Predi_home','Predi_away']].replace({2:'Winner', 0:'-'})\n",
    "wcup_final"
   ]
  }
 ],
 "metadata": {
  "kernelspec": {
   "display_name": "Python 3.9.12 64-bit",
   "language": "python",
   "name": "python3"
  },
  "language_info": {
   "codemirror_mode": {
    "name": "ipython",
    "version": 3
   },
   "file_extension": ".py",
   "mimetype": "text/x-python",
   "name": "python",
   "nbconvert_exporter": "python",
   "pygments_lexer": "ipython3",
   "version": "3.9.12"
  },
  "orig_nbformat": 4,
  "vscode": {
   "interpreter": {
    "hash": "4ff442374353e7cd8d0b317b986b0b774c361b92b00d7ea43e4b1384f67d1c1b"
   }
  }
 },
 "nbformat": 4,
 "nbformat_minor": 2
}
